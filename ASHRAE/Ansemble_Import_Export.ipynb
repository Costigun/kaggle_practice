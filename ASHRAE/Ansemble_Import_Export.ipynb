{
 "cells": [
  {
   "cell_type": "markdown",
   "metadata": {},
   "source": [
    "### Постановка задачи\n",
    "Подготовим данные для построения модели: получим, объединим, оптимизируем и обогатим данные.\n",
    "\n",
    "Сохраним готовые данные в нескольких форматах: CSV, HDF5\n",
    "\n",
    "Данные:\n",
    "* http://video.ittensive.com/machine-learning/ashrae/building_metadata.csv.gz\n",
    "* http://video.ittensive.com/machine-learning/ashrae/weather_train.csv.gz\n",
    "* http://video.ittensive.com/machine-learning/ashrae/train.0.csv.gz\n",
    "Соревнование: https://www.kaggle.com/c/ashrae-energy-prediction/\n",
    "\n",
    "© ITtensive, 2020"
   ]
  },
  {
   "cell_type": "code",
   "execution_count": 1,
   "metadata": {},
   "outputs": [],
   "source": [
    "import pandas as pd\n",
    "from pandas.tseries.holiday import USFederalHolidayCalendar as calendar\n",
    "import numpy as np\n",
    "from scipy.interpolate import interp1d\n",
    "from sklearn.model_selection import train_test_split\n",
    "from sklearn.linear_model import LinearRegression\n",
    "import os"
   ]
  },
  {
   "cell_type": "code",
   "execution_count": 2,
   "metadata": {},
   "outputs": [],
   "source": [
    "def reduce_mem_usage (df):\n",
    "    start_mem = df.memory_usage().sum() / 1024**2    \n",
    "    for col in df.columns:\n",
    "        col_type = df[col].dtypes\n",
    "        if str(col_type)[:5] == \"float\":\n",
    "            c_min = df[col].min()\n",
    "            c_max = df[col].max()\n",
    "            if c_min > np.finfo(\"f2\").min and c_max < np.finfo(\"f2\").max:\n",
    "                df[col] = df[col].astype(np.float16)\n",
    "            elif c_min > np.finfo(\"f4\").min and c_max < np.finfo(\"f4\").max:\n",
    "                df[col] = df[col].astype(np.float32)\n",
    "            else:\n",
    "                df[col] = df[col].astype(np.float64)\n",
    "        elif str(col_type)[:3] == \"int\":\n",
    "            c_min = df[col].min()\n",
    "            c_max = df[col].max()\n",
    "            if c_min > np.iinfo(\"i1\").min and c_max < np.iinfo(\"i1\").max:\n",
    "                df[col] = df[col].astype(np.int8)\n",
    "            elif c_min > np.iinfo(\"i2\").min and c_max < np.iinfo(\"i2\").max:\n",
    "                df[col] = df[col].astype(np.int16)\n",
    "            elif c_min > np.iinfo(\"i4\").min and c_max < np.iinfo(\"i4\").max:\n",
    "                df[col] = df[col].astype(np.int32)\n",
    "            elif c_min > np.iinfo(\"i8\").min and c_max < np.iinfo(\"i8\").max:\n",
    "                df[col] = df[col].astype(np.int64)\n",
    "        elif col == \"timestamp\":\n",
    "            df[col] = pd.to_datetime(df[col])\n",
    "        elif str(col_type)[:8] != \"datetime\":\n",
    "            df[col] = df[col].astype(\"category\")\n",
    "    end_mem = df.memory_usage().sum() / 1024**2\n",
    "    print('Потребление памяти меньше на', round(start_mem - end_mem, 2), 'Мб (минус', round(100 * (start_mem - end_mem) / start_mem, 1), '%)')\n",
    "    return df"
   ]
  },
  {
   "cell_type": "code",
   "execution_count": 3,
   "metadata": {},
   "outputs": [],
   "source": [
    "buildings = pd.read_csv(\"http://video.ittensive.com/machine-learning/ashrae/building_metadata.csv.gz\")\n",
    "weather = pd.read_csv(\"http://video.ittensive.com/machine-learning/ashrae/weather_train.csv.gz\")\n",
    "weather = weather[weather[\"site_id\"] == 0]\n",
    "energy = pd.read_csv(\"http://video.ittensive.com/machine-learning/ashrae/train.0.csv.gz\")\n",
    "energy = energy[energy[\"building_id\"] < 20]\n",
    "energy = pd.merge(left=energy, right=buildings, how=\"left\",\n",
    "                   left_on=\"building_id\", right_on=\"building_id\")\n",
    "del buildings"
   ]
  },
  {
   "cell_type": "code",
   "execution_count": 4,
   "metadata": {},
   "outputs": [],
   "source": [
    "weather[\"precip_depth_1_hr\"] = weather[\"precip_depth_1_hr\"].apply(lambda x:x if x>0 else 0)\n",
    "interpolate_columns = [\"air_temperature\", \"dew_temperature\",\n",
    "                       \"cloud_coverage\", \"wind_speed\", \"wind_direction\",\n",
    "                       \"precip_depth_1_hr\", \"sea_level_pressure\"]\n",
    "for col in interpolate_columns:\n",
    "    weather[col] = weather[col].interpolate(limit_direction='both',\n",
    "                            kind='cubic')"
   ]
  },
  {
   "cell_type": "code",
   "execution_count": 5,
   "metadata": {},
   "outputs": [],
   "source": [
    "weather[\"air_temperature_diff1\"] = weather[\"air_temperature\"].diff()\n",
    "weather.at[0, \"air_temperature_diff1\"] = weather.at[1, \"air_temperature_diff1\"]\n",
    "weather[\"air_temperature_diff2\"] = weather[\"air_temperature_diff1\"].diff()\n",
    "weather.at[0, \"air_temperature_diff2\"] = weather.at[1, \"air_temperature_diff2\"]"
   ]
  },
  {
   "cell_type": "code",
   "execution_count": 6,
   "metadata": {},
   "outputs": [
    {
     "name": "stdout",
     "output_type": "stream",
     "text": [
      "Потребление памяти меньше на 12.4 Мб (минус 71.2 %)\n",
      "<class 'pandas.core.frame.DataFrame'>\n",
      "RangeIndex: 175680 entries, 0 to 175679\n",
      "Data columns (total 13 columns):\n",
      " #   Column                 Non-Null Count   Dtype         \n",
      "---  ------                 --------------   -----         \n",
      " 0   timestamp              175680 non-null  datetime64[ns]\n",
      " 1   building_id            175680 non-null  int8          \n",
      " 2   meter_reading          175680 non-null  float16       \n",
      " 3   primary_use            175680 non-null  category      \n",
      " 4   air_temperature        175680 non-null  float16       \n",
      " 5   cloud_coverage         175680 non-null  float16       \n",
      " 6   dew_temperature        175680 non-null  float16       \n",
      " 7   precip_depth_1_hr      175680 non-null  float16       \n",
      " 8   sea_level_pressure     175680 non-null  float16       \n",
      " 9   wind_direction         175680 non-null  float16       \n",
      " 10  wind_speed             175680 non-null  float16       \n",
      " 11  air_temperature_diff1  175680 non-null  float16       \n",
      " 12  air_temperature_diff2  175680 non-null  float16       \n",
      "dtypes: category(1), datetime64[ns](1), float16(10), int8(1)\n",
      "memory usage: 5.0 MB\n",
      "None\n"
     ]
    }
   ],
   "source": [
    "energy = energy.set_index([\"timestamp\", \"site_id\"])\n",
    "weather = weather.set_index([\"timestamp\", \"site_id\"])\n",
    "energy = pd.merge(left=energy, right=weather, how=\"left\",\n",
    "                  left_index=True, right_index=True)\n",
    "energy.reset_index(inplace=True)\n",
    "energy = energy.drop(columns=[\"meter\", \"site_id\", \"year_built\",\n",
    "                              \"square_feet\", \"floor_count\"], axis=1)\n",
    "energy = reduce_mem_usage(energy)\n",
    "del weather\n",
    "print (energy.info())"
   ]
  },
  {
   "cell_type": "code",
   "execution_count": 7,
   "metadata": {},
   "outputs": [],
   "source": [
    "energy[\"hour\"] = energy[\"timestamp\"].dt.hour.astype(\"int8\")\n",
    "energy[\"weekday\"] = energy[\"timestamp\"].dt.weekday.astype(\"int8\")\n",
    "energy[\"week\"] = energy[\"timestamp\"].dt.week.astype(\"int8\")\n",
    "energy[\"month\"] = energy[\"timestamp\"].dt.month.astype(\"int8\")\n",
    "energy[\"date\"] = pd.to_datetime(energy[\"timestamp\"].dt.date)\n",
    "dates_range = pd.date_range(start='2015-12-31', end='2017-01-01')\n",
    "us_holidays = calendar().holidays(start=dates_range.min(),\n",
    "                                  end=dates_range.max())\n",
    "energy['is_holiday'] = energy['date'].isin(us_holidays).astype(\"int8\")\n",
    "for weekday in range(0,7):\n",
    "    energy['is_wday' + str(weekday)] = energy['weekday'].isin([weekday]).astype(\"int8\")\n",
    "for week in range(1,54):\n",
    "    energy['is_w' + str(week)] = energy['week'].isin([week]).astype(\"int8\")\n",
    "for month in range(1,13):\n",
    "    energy['is_m' + str(month)] = energy['month'].isin([month]).astype(\"int8\")"
   ]
  },
  {
   "cell_type": "code",
   "execution_count": 8,
   "metadata": {},
   "outputs": [],
   "source": [
    "energy[\"meter_reading_log\"] = np.log(energy[\"meter_reading\"] + 1)"
   ]
  },
  {
   "cell_type": "code",
   "execution_count": 9,
   "metadata": {},
   "outputs": [
    {
     "name": "stdout",
     "output_type": "stream",
     "text": [
      "<class 'pandas.core.frame.DataFrame'>\n",
      "RangeIndex: 175680 entries, 0 to 175679\n",
      "Data columns (total 92 columns):\n",
      " #   Column                 Non-Null Count   Dtype         \n",
      "---  ------                 --------------   -----         \n",
      " 0   timestamp              175680 non-null  datetime64[ns]\n",
      " 1   building_id            175680 non-null  int8          \n",
      " 2   meter_reading          175680 non-null  float16       \n",
      " 3   primary_use            175680 non-null  category      \n",
      " 4   air_temperature        175680 non-null  float16       \n",
      " 5   cloud_coverage         175680 non-null  float16       \n",
      " 6   dew_temperature        175680 non-null  float16       \n",
      " 7   precip_depth_1_hr      175680 non-null  float16       \n",
      " 8   sea_level_pressure     175680 non-null  float16       \n",
      " 9   wind_direction         175680 non-null  float16       \n",
      " 10  wind_speed             175680 non-null  float16       \n",
      " 11  air_temperature_diff1  175680 non-null  float16       \n",
      " 12  air_temperature_diff2  175680 non-null  float16       \n",
      " 13  hour                   175680 non-null  int8          \n",
      " 14  weekday                175680 non-null  int8          \n",
      " 15  week                   175680 non-null  int8          \n",
      " 16  month                  175680 non-null  int8          \n",
      " 17  date                   175680 non-null  datetime64[ns]\n",
      " 18  is_holiday             175680 non-null  int8          \n",
      " 19  is_wday0               175680 non-null  int8          \n",
      " 20  is_wday1               175680 non-null  int8          \n",
      " 21  is_wday2               175680 non-null  int8          \n",
      " 22  is_wday3               175680 non-null  int8          \n",
      " 23  is_wday4               175680 non-null  int8          \n",
      " 24  is_wday5               175680 non-null  int8          \n",
      " 25  is_wday6               175680 non-null  int8          \n",
      " 26  is_w1                  175680 non-null  int8          \n",
      " 27  is_w2                  175680 non-null  int8          \n",
      " 28  is_w3                  175680 non-null  int8          \n",
      " 29  is_w4                  175680 non-null  int8          \n",
      " 30  is_w5                  175680 non-null  int8          \n",
      " 31  is_w6                  175680 non-null  int8          \n",
      " 32  is_w7                  175680 non-null  int8          \n",
      " 33  is_w8                  175680 non-null  int8          \n",
      " 34  is_w9                  175680 non-null  int8          \n",
      " 35  is_w10                 175680 non-null  int8          \n",
      " 36  is_w11                 175680 non-null  int8          \n",
      " 37  is_w12                 175680 non-null  int8          \n",
      " 38  is_w13                 175680 non-null  int8          \n",
      " 39  is_w14                 175680 non-null  int8          \n",
      " 40  is_w15                 175680 non-null  int8          \n",
      " 41  is_w16                 175680 non-null  int8          \n",
      " 42  is_w17                 175680 non-null  int8          \n",
      " 43  is_w18                 175680 non-null  int8          \n",
      " 44  is_w19                 175680 non-null  int8          \n",
      " 45  is_w20                 175680 non-null  int8          \n",
      " 46  is_w21                 175680 non-null  int8          \n",
      " 47  is_w22                 175680 non-null  int8          \n",
      " 48  is_w23                 175680 non-null  int8          \n",
      " 49  is_w24                 175680 non-null  int8          \n",
      " 50  is_w25                 175680 non-null  int8          \n",
      " 51  is_w26                 175680 non-null  int8          \n",
      " 52  is_w27                 175680 non-null  int8          \n",
      " 53  is_w28                 175680 non-null  int8          \n",
      " 54  is_w29                 175680 non-null  int8          \n",
      " 55  is_w30                 175680 non-null  int8          \n",
      " 56  is_w31                 175680 non-null  int8          \n",
      " 57  is_w32                 175680 non-null  int8          \n",
      " 58  is_w33                 175680 non-null  int8          \n",
      " 59  is_w34                 175680 non-null  int8          \n",
      " 60  is_w35                 175680 non-null  int8          \n",
      " 61  is_w36                 175680 non-null  int8          \n",
      " 62  is_w37                 175680 non-null  int8          \n",
      " 63  is_w38                 175680 non-null  int8          \n",
      " 64  is_w39                 175680 non-null  int8          \n",
      " 65  is_w40                 175680 non-null  int8          \n",
      " 66  is_w41                 175680 non-null  int8          \n",
      " 67  is_w42                 175680 non-null  int8          \n",
      " 68  is_w43                 175680 non-null  int8          \n",
      " 69  is_w44                 175680 non-null  int8          \n",
      " 70  is_w45                 175680 non-null  int8          \n",
      " 71  is_w46                 175680 non-null  int8          \n",
      " 72  is_w47                 175680 non-null  int8          \n",
      " 73  is_w48                 175680 non-null  int8          \n",
      " 74  is_w49                 175680 non-null  int8          \n",
      " 75  is_w50                 175680 non-null  int8          \n",
      " 76  is_w51                 175680 non-null  int8          \n",
      " 77  is_w52                 175680 non-null  int8          \n",
      " 78  is_w53                 175680 non-null  int8          \n",
      " 79  is_m1                  175680 non-null  int8          \n",
      " 80  is_m2                  175680 non-null  int8          \n",
      " 81  is_m3                  175680 non-null  int8          \n",
      " 82  is_m4                  175680 non-null  int8          \n",
      " 83  is_m5                  175680 non-null  int8          \n",
      " 84  is_m6                  175680 non-null  int8          \n",
      " 85  is_m7                  175680 non-null  int8          \n",
      " 86  is_m8                  175680 non-null  int8          \n",
      " 87  is_m9                  175680 non-null  int8          \n",
      " 88  is_m10                 175680 non-null  int8          \n",
      " 89  is_m11                 175680 non-null  int8          \n",
      " 90  is_m12                 175680 non-null  int8          \n",
      " 91  meter_reading_log      175680 non-null  float16       \n",
      "dtypes: category(1), datetime64[ns](2), float16(11), int8(78)\n",
      "memory usage: 19.6 MB\n",
      "None\n"
     ]
    }
   ],
   "source": [
    "print(energy.info())\n",
    "energy.to_csv(\"energy.0-20.ready.csv.gz\",index=False)"
   ]
  },
  {
   "cell_type": "code",
   "execution_count": 10,
   "metadata": {},
   "outputs": [],
   "source": [
    "energy = pd.read_csv(\"energy.0-20.ready.csv.gz\")"
   ]
  },
  {
   "cell_type": "code",
   "execution_count": 21,
   "metadata": {},
   "outputs": [
    {
     "name": "stdout",
     "output_type": "stream",
     "text": [
      "Потребление памяти меньше на 0.0 Мб (минус 0.0 %)\n"
     ]
    }
   ],
   "source": [
    "energy = reduce_mem_usage(energy)"
   ]
  },
  {
   "cell_type": "code",
   "execution_count": null,
   "metadata": {},
   "outputs": [],
   "source": [
    "    "
   ]
  }
 ],
 "metadata": {
  "kernelspec": {
   "display_name": "Python 3",
   "language": "python",
   "name": "python3"
  },
  "language_info": {
   "codemirror_mode": {
    "name": "ipython",
    "version": 3
   },
   "file_extension": ".py",
   "mimetype": "text/x-python",
   "name": "python",
   "nbconvert_exporter": "python",
   "pygments_lexer": "ipython3",
   "version": "3.8.3"
  }
 },
 "nbformat": 4,
 "nbformat_minor": 4
}
