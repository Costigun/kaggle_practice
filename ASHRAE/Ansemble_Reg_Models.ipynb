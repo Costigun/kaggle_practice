{
 "cells": [
  {
   "cell_type": "markdown",
   "metadata": {},
   "source": [
    "### Постановка задачи\n",
    "Загрузим подготовленные данные по энергопотреблению первых 20 зданий (building_id от 0 до 19).\n",
    "\n",
    "Соберем два набора моделей: по дате (праздники, дни недели и т.д.) и по погоде.\n",
    "\n",
    "Проведем 10 разбиений данных на обучающие/проверочные и выявим оптимальные веса моделей для каждого часа для каждого здания.\n",
    "\n",
    "Вычислим оптимизированную метрику качества для ансамбля моделей.\n",
    "        \n",
    "* http://video.ittensive.com/machine-learning/ashrae/building_metadata.csv.gz\n",
    "* http://video.ittensive.com/machine-learning/ashrae/weather_train.csv.gz\n",
    "* http://video.ittensive.com/machine-learning/ashrae/train.0.csv.gz\n",
    "Соревнование: https://www.kaggle.com/c/ashrae-energy-prediction/\n",
    "\n",
    "© ITtensive, 2020"
   ]
  },
  {
   "cell_type": "code",
   "execution_count": 1,
   "metadata": {},
   "outputs": [],
   "source": [
    "import pandas as pd\n",
    "import numpy as np\n",
    "from sklearn.model_selection import train_test_split\n",
    "from sklearn.linear_model import LinearRegression"
   ]
  },
  {
   "cell_type": "code",
   "execution_count": 2,
   "metadata": {},
   "outputs": [],
   "source": [
    "energy = pd.read_csv(\"energy.0-20.ready.csv.gz\")"
   ]
  },
  {
   "cell_type": "code",
   "execution_count": 3,
   "metadata": {},
   "outputs": [
    {
     "name": "stdout",
     "output_type": "stream",
     "text": [
      "<class 'pandas.core.frame.DataFrame'>\n",
      "RangeIndex: 175680 entries, 0 to 175679\n",
      "Data columns (total 92 columns):\n",
      " #   Column                 Non-Null Count   Dtype  \n",
      "---  ------                 --------------   -----  \n",
      " 0   timestamp              175680 non-null  object \n",
      " 1   building_id            175680 non-null  int64  \n",
      " 2   meter_reading          175680 non-null  float64\n",
      " 3   primary_use            175680 non-null  object \n",
      " 4   air_temperature        175680 non-null  float64\n",
      " 5   cloud_coverage         175680 non-null  float64\n",
      " 6   dew_temperature        175680 non-null  float64\n",
      " 7   precip_depth_1_hr      175680 non-null  float64\n",
      " 8   sea_level_pressure     175680 non-null  float64\n",
      " 9   wind_direction         175680 non-null  float64\n",
      " 10  wind_speed             175680 non-null  float64\n",
      " 11  air_temperature_diff1  175680 non-null  float64\n",
      " 12  air_temperature_diff2  175680 non-null  float64\n",
      " 13  hour                   175680 non-null  int64  \n",
      " 14  weekday                175680 non-null  int64  \n",
      " 15  week                   175680 non-null  int64  \n",
      " 16  month                  175680 non-null  int64  \n",
      " 17  date                   175680 non-null  object \n",
      " 18  is_holiday             175680 non-null  int64  \n",
      " 19  is_wday0               175680 non-null  int64  \n",
      " 20  is_wday1               175680 non-null  int64  \n",
      " 21  is_wday2               175680 non-null  int64  \n",
      " 22  is_wday3               175680 non-null  int64  \n",
      " 23  is_wday4               175680 non-null  int64  \n",
      " 24  is_wday5               175680 non-null  int64  \n",
      " 25  is_wday6               175680 non-null  int64  \n",
      " 26  is_w1                  175680 non-null  int64  \n",
      " 27  is_w2                  175680 non-null  int64  \n",
      " 28  is_w3                  175680 non-null  int64  \n",
      " 29  is_w4                  175680 non-null  int64  \n",
      " 30  is_w5                  175680 non-null  int64  \n",
      " 31  is_w6                  175680 non-null  int64  \n",
      " 32  is_w7                  175680 non-null  int64  \n",
      " 33  is_w8                  175680 non-null  int64  \n",
      " 34  is_w9                  175680 non-null  int64  \n",
      " 35  is_w10                 175680 non-null  int64  \n",
      " 36  is_w11                 175680 non-null  int64  \n",
      " 37  is_w12                 175680 non-null  int64  \n",
      " 38  is_w13                 175680 non-null  int64  \n",
      " 39  is_w14                 175680 non-null  int64  \n",
      " 40  is_w15                 175680 non-null  int64  \n",
      " 41  is_w16                 175680 non-null  int64  \n",
      " 42  is_w17                 175680 non-null  int64  \n",
      " 43  is_w18                 175680 non-null  int64  \n",
      " 44  is_w19                 175680 non-null  int64  \n",
      " 45  is_w20                 175680 non-null  int64  \n",
      " 46  is_w21                 175680 non-null  int64  \n",
      " 47  is_w22                 175680 non-null  int64  \n",
      " 48  is_w23                 175680 non-null  int64  \n",
      " 49  is_w24                 175680 non-null  int64  \n",
      " 50  is_w25                 175680 non-null  int64  \n",
      " 51  is_w26                 175680 non-null  int64  \n",
      " 52  is_w27                 175680 non-null  int64  \n",
      " 53  is_w28                 175680 non-null  int64  \n",
      " 54  is_w29                 175680 non-null  int64  \n",
      " 55  is_w30                 175680 non-null  int64  \n",
      " 56  is_w31                 175680 non-null  int64  \n",
      " 57  is_w32                 175680 non-null  int64  \n",
      " 58  is_w33                 175680 non-null  int64  \n",
      " 59  is_w34                 175680 non-null  int64  \n",
      " 60  is_w35                 175680 non-null  int64  \n",
      " 61  is_w36                 175680 non-null  int64  \n",
      " 62  is_w37                 175680 non-null  int64  \n",
      " 63  is_w38                 175680 non-null  int64  \n",
      " 64  is_w39                 175680 non-null  int64  \n",
      " 65  is_w40                 175680 non-null  int64  \n",
      " 66  is_w41                 175680 non-null  int64  \n",
      " 67  is_w42                 175680 non-null  int64  \n",
      " 68  is_w43                 175680 non-null  int64  \n",
      " 69  is_w44                 175680 non-null  int64  \n",
      " 70  is_w45                 175680 non-null  int64  \n",
      " 71  is_w46                 175680 non-null  int64  \n",
      " 72  is_w47                 175680 non-null  int64  \n",
      " 73  is_w48                 175680 non-null  int64  \n",
      " 74  is_w49                 175680 non-null  int64  \n",
      " 75  is_w50                 175680 non-null  int64  \n",
      " 76  is_w51                 175680 non-null  int64  \n",
      " 77  is_w52                 175680 non-null  int64  \n",
      " 78  is_w53                 175680 non-null  int64  \n",
      " 79  is_m1                  175680 non-null  int64  \n",
      " 80  is_m2                  175680 non-null  int64  \n",
      " 81  is_m3                  175680 non-null  int64  \n",
      " 82  is_m4                  175680 non-null  int64  \n",
      " 83  is_m5                  175680 non-null  int64  \n",
      " 84  is_m6                  175680 non-null  int64  \n",
      " 85  is_m7                  175680 non-null  int64  \n",
      " 86  is_m8                  175680 non-null  int64  \n",
      " 87  is_m9                  175680 non-null  int64  \n",
      " 88  is_m10                 175680 non-null  int64  \n",
      " 89  is_m11                 175680 non-null  int64  \n",
      " 90  is_m12                 175680 non-null  int64  \n",
      " 91  meter_reading_log      175680 non-null  float64\n",
      "dtypes: float64(11), int64(78), object(3)\n",
      "memory usage: 123.3+ MB\n"
     ]
    }
   ],
   "source": [
    "energy.info()"
   ]
  },
  {
   "cell_type": "code",
   "execution_count": 4,
   "metadata": {},
   "outputs": [],
   "source": [
    "lr_weather_colums = ['meter_reading_log','hour','building_id','air_temperature','dew_temperature',\n",
    "                     'sea_level_pressure','wind_speed','air_temperature_diff1','air_temperature_diff2','cloud_coverage']\n",
    "\n",
    "lr_days_columns = ['meter_reading_log','hour','building_id','is_holiday']\n",
    "for wday in range(0,7):\n",
    "    lr_days_columns.append('is_wday' + str(wday))\n",
    "for week in range(1,54):\n",
    "    lr_days_columns.append('is_w' + str(week))\n",
    "for month in range(1,13):\n",
    "    lr_days_columns.append('is_m' + str(month))"
   ]
  },
  {
   "cell_type": "code",
   "execution_count": 13,
   "metadata": {},
   "outputs": [],
   "source": [
    "hours = range(0,24)\n",
    "buildings = range(0,energy['building_id'].max() + 1)"
   ]
  },
  {
   "cell_type": "code",
   "execution_count": 14,
   "metadata": {},
   "outputs": [],
   "source": [
    "def calculate_model(x,df_lr,lr_columns):\n",
    "    lr = -1\n",
    "    model = df_lr[x.building_id][x.hour]\n",
    "    if len(model) > 0:\n",
    "        lr = np.sum([x[c] * model[i] for i,c in enumerate(lr_columns[3:])])\n",
    "        lr += model[len(lr_columns) - 3]\n",
    "        lr = np.exp(lr)\n",
    "    if lr < 0 or lr * lr == lr:\n",
    "        lr = 0\n",
    "    x['meter_reading_lr_q'] = (np.log(x.meter_reading + 1) - np.log(1 + lr)) ** 2\n",
    "    return x"
   ]
  },
  {
   "cell_type": "code",
   "execution_count": 15,
   "metadata": {},
   "outputs": [],
   "source": [
    "def train_model(df,columns):\n",
    "    df_train_lr = pd.DataFrame(df,columns=columns)\n",
    "    df_lr = [[]] * len(buildings)\n",
    "    for building in buildings:\n",
    "        df_lr[building] = [[]] * len(hours)\n",
    "        df_train_b = df_train_lr[df_train_lr['building_id'] == building]\n",
    "        for hour in hours:\n",
    "            df_train_bh = df_train_b[df_train_b['hour'] == hour]\n",
    "            y = df_train_bh['meter_reading_log']\n",
    "            x = df_train_bh.drop(['meter_reading_log','hour','building_id'],axis=1)\n",
    "            model = LinearRegression(fit_intercept=False).fit(x,y)\n",
    "            df_lr[building][hour] = model.coef_\n",
    "            df_lr[building][hour] = np.append(df_lr[building][hour],model.intercept_)\n",
    "    return df_lr\n",
    "\n",
    "def calculate_weights_model(df_test,df_train,lr_columns):\n",
    "    df_test = df_test.apply(calculate_model,axis=1,result_type='expand',\n",
    "                           df_lr=train_model(df_train,lr_columns),\n",
    "                           lr_columns=lr_columns)\n",
    "    return pd.Series(df_test.groupby(['hour','building_id']).sum()['meter_reading_lr_q'])\n",
    "def calculate_weights():\n",
    "    df_train,df_test = train_test_split(energy[energy['meter_reading'] > 0],test_size=0.2)\n",
    "    return (calculate_weights_model(df_test,df_train,lr_weather_colums),\n",
    "           calculate_weights_model(df_test,df_train,lr_days_columns))"
   ]
  },
  {
   "cell_type": "code",
   "execution_count": 16,
   "metadata": {},
   "outputs": [
    {
     "name": "stdout",
     "output_type": "stream",
     "text": [
      "0\n"
     ]
    },
    {
     "name": "stderr",
     "output_type": "stream",
     "text": [
      "<ipython-input-14-f7b5083fc8a3>:7: RuntimeWarning: overflow encountered in exp\n",
      "  lr = np.exp(lr)\n"
     ]
    },
    {
     "name": "stdout",
     "output_type": "stream",
     "text": [
      "1\n"
     ]
    },
    {
     "name": "stderr",
     "output_type": "stream",
     "text": [
      "<ipython-input-14-f7b5083fc8a3>:7: RuntimeWarning: overflow encountered in exp\n",
      "  lr = np.exp(lr)\n"
     ]
    },
    {
     "name": "stdout",
     "output_type": "stream",
     "text": [
      "2\n"
     ]
    },
    {
     "name": "stderr",
     "output_type": "stream",
     "text": [
      "<ipython-input-14-f7b5083fc8a3>:7: RuntimeWarning: overflow encountered in exp\n",
      "  lr = np.exp(lr)\n"
     ]
    },
    {
     "name": "stdout",
     "output_type": "stream",
     "text": [
      "3\n"
     ]
    },
    {
     "name": "stderr",
     "output_type": "stream",
     "text": [
      "<ipython-input-14-f7b5083fc8a3>:7: RuntimeWarning: overflow encountered in exp\n",
      "  lr = np.exp(lr)\n"
     ]
    },
    {
     "name": "stdout",
     "output_type": "stream",
     "text": [
      "4\n"
     ]
    },
    {
     "name": "stderr",
     "output_type": "stream",
     "text": [
      "<ipython-input-14-f7b5083fc8a3>:7: RuntimeWarning: overflow encountered in exp\n",
      "  lr = np.exp(lr)\n"
     ]
    },
    {
     "name": "stdout",
     "output_type": "stream",
     "text": [
      "5\n"
     ]
    },
    {
     "name": "stderr",
     "output_type": "stream",
     "text": [
      "<ipython-input-14-f7b5083fc8a3>:7: RuntimeWarning: overflow encountered in exp\n",
      "  lr = np.exp(lr)\n"
     ]
    },
    {
     "name": "stdout",
     "output_type": "stream",
     "text": [
      "6\n"
     ]
    },
    {
     "name": "stderr",
     "output_type": "stream",
     "text": [
      "<ipython-input-14-f7b5083fc8a3>:7: RuntimeWarning: overflow encountered in exp\n",
      "  lr = np.exp(lr)\n"
     ]
    },
    {
     "name": "stdout",
     "output_type": "stream",
     "text": [
      "7\n"
     ]
    },
    {
     "name": "stderr",
     "output_type": "stream",
     "text": [
      "<ipython-input-14-f7b5083fc8a3>:7: RuntimeWarning: overflow encountered in exp\n",
      "  lr = np.exp(lr)\n"
     ]
    },
    {
     "name": "stdout",
     "output_type": "stream",
     "text": [
      "8\n"
     ]
    },
    {
     "name": "stderr",
     "output_type": "stream",
     "text": [
      "<ipython-input-14-f7b5083fc8a3>:7: RuntimeWarning: overflow encountered in exp\n",
      "  lr = np.exp(lr)\n"
     ]
    },
    {
     "name": "stdout",
     "output_type": "stream",
     "text": [
      "9\n"
     ]
    },
    {
     "name": "stderr",
     "output_type": "stream",
     "text": [
      "<ipython-input-14-f7b5083fc8a3>:7: RuntimeWarning: overflow encountered in exp\n",
      "  lr = np.exp(lr)\n"
     ]
    },
    {
     "name": "stdout",
     "output_type": "stream",
     "text": [
      "[[0, 0, 0, 0, 0, 0, 0, 0, 0, 0, 0, 0, 0, 0, 0, 0, 0, 0, 0, 0, 0, 0, 0, 0], [0, 0, 0, 0, 0, 0, 0, 0, 0, 0, 0, 0, 0, 0, 0, 0, 0, 0, 0, 0, 0, 0, 0, 0], [1, 0, 1, 0, 1, 0, 0, 0, 0, 0, 0, 1, 0, 0, 0, 0, 0, 0, 0, 0, 0, 0, 0, 1], [0, 0, 0, 0, 0, 0, 0, 0, 0, 0, 0, 0, 0, 0, 0, 0, 0, 0, 0, 0, 0, 0, 0, 0], [0, 0, 0, 0, 0, 0, 0, 0, 0, 0, 0, 0, 0, 0, 0, 0, 0, 0, 0, 0, 0, 0, 0, 0], [0, 0, 0, 0, 0, 0, 0, 0, 0, 0, 0, 0, 0, 0, 0, 0, 0, 0, 0, 0, 0, 0, 0, 0], [0, 0, 0, 0, 0, 0, 0, 0, 0, 0, 0, 0, 1, 0, 0, 0, 0, 0, 0, 0, 0, 0, 0, 0], [0, 0, 0, 0, 0, 0, 0, 0, 0, 0, 0, 0, 0, 0, 0, 0, 0, 0, 0, 0, 0, 0, 0, 0], [0, 0, 0, 0, 0, 0, 0, 0, 1, 0, 0, 0, 0, 0, 0, 0, 0, 0, 0, 0, 0, 0, 0, 0], [0, 0, 0, 0, 0, 0, 0, 0, 0, 0, 0, 0, 0, 0, 0, 0, 1, 0, 0, 0, 0, 0, 0, 0], [0, 0, 0, 0, 0, 0, 0, 0, 0, 0, 0, 1, 0, 0, 0, 0, 0, 0, 0, 0, 0, 0, 0, 0], [0, 0, 0, 0, 0, 0, 0, 0, 0, 0, 0, 0, 0, 0, 0, 0, 0, 0, 0, 0, 0, 0, 0, 0], [0, 0, 0, 0, 0, 0, 0, 0, 0, 0, 0, 0, 0, 0, 0, 0, 0, 0, 0, 0, 0, 0, 0, 0], [0, 0, 0, 0, 0, 0, 0, 0, 0, 0, 0, 0, 0, 0, 0, 0, 0, 0, 0, 0, 0, 0, 0, 0], [0, 0, 0, 0, 0, 0, 0, 0, 0, 0, 0, 0, 0, 0, 0, 0, 0, 0, 0, 0, 0, 0, 0, 0], [0, 0, 0, 0, 0, 0, 0, 0, 0, 0, 0, 0, 0, 0, 0, 0, 0, 0, 0, 0, 0, 0, 0, 0], [0, 0, 0, 0, 0, 0, 0, 0, 0, 0, 0, 0, 0, 0, 0, 0, 0, 0, 0, 0, 0, 0, 0, 0], [0, 0, 0, 0, 0, 0, 0, 0, 0, 0, 0, 0, 0, 0, 0, 0, 0, 0, 0, 0, 1, 0, 0, 0], [0, 0, 0, 0, 0, 0, 0, 0, 0, 0, 0, 0, 0, 0, 0, 0, 0, 0, 0, 0, 0, 0, 0, 0], [0, 0, 0, 0, 0, 0, 0, 0, 0, 0, 0, 0, 0, 0, 0, 0, 0, 0, 0, 0, 0, 0, 0, 0]]\n"
     ]
    }
   ],
   "source": [
    "weights_weather = []\n",
    "weights_days = []\n",
    "for i in range(0,10):\n",
    "    print(i)\n",
    "    weights_weather_model,weights_days_model = calculate_weights()\n",
    "    if len(weights_weather) > 0:\n",
    "        weights_weather += weights_weather_model\n",
    "    else:\n",
    "        weights_weather = weights_weather_model\n",
    "    if len(weights_days) > 0:\n",
    "        weights_days += weights_days_model\n",
    "    else:\n",
    "        weights_days = weights_days_model\n",
    "        \n",
    "weights = [0] * len(buildings)\n",
    "for b in buildings:\n",
    "    \n",
    "    weights[b] = [0] * len(hours)\n",
    "    for h in hours:\n",
    "        if weights_weather.loc[h].at[b] > weights_days.loc[h].at[b]:\n",
    "            weights[b][h] = 1\n",
    "print(weights)"
   ]
  },
  {
   "cell_type": "code",
   "execution_count": 17,
   "metadata": {},
   "outputs": [],
   "source": [
    "from sklearn.model_selection import train_test_split"
   ]
  },
  {
   "cell_type": "code",
   "execution_count": 18,
   "metadata": {},
   "outputs": [],
   "source": [
    "energy_train,energy_test = train_test_split(energy[energy['meter_reading'] > 0], test_size=0.2)"
   ]
  },
  {
   "cell_type": "code",
   "execution_count": 22,
   "metadata": {},
   "outputs": [],
   "source": [
    "energy_lr_days = train_model(energy_train,lr_days_columns)\n",
    "energy_lr_weather = train_model(energy_train,lr_weather_colums)"
   ]
  },
  {
   "cell_type": "code",
   "execution_count": 27,
   "metadata": {},
   "outputs": [],
   "source": [
    "def calculate_model_ensemble(x,model,columns):\n",
    "    lr = -1\n",
    "    if len(model) > 0:\n",
    "        lr = np.sum([x[c] * model[i] for i,c in enumerate(columns[3:])])\n",
    "        lr += model[len(columns) - 3]\n",
    "        lr = np.exp(lr)\n",
    "    if lr < 0 or lr*lr == lr:\n",
    "        lr = 0\n",
    "    return lr\n",
    "def calculate_models_ensemble(x):\n",
    "    lr_d = calculate_model_ensemble(x,energy_lr_days[x.building_id][x.hour],lr_days_columns)\n",
    "    lr_w = calculate_model_ensemble(x,energy_lr_days[x.building_id][x.hour],lr_weather_colums)\n",
    "    if weights[x.building_id][x.hour] == 1:\n",
    "        lr = lr_d\n",
    "    else:\n",
    "        lr = lr_w\n",
    "    lr_sum = (lr_w + lr_d) / 2\n",
    "    x['meter_reading_lr_q'] = (np.log(x.meter_reading + 1) + np.log(1 + lr)) ** 2\n",
    "    x['meter_reading_sum_q'] = (np.log(x.meter_reading + 1) + np.log(1 + lr_sum)) ** 2\n",
    "    return x"
   ]
  },
  {
   "cell_type": "markdown",
   "metadata": {},
   "source": [
    "В теории, в идеальном случае, ансамбль линейной регрессии не должен давать никакого преимущества, потому что если\n",
    "\\begin{equation}\n",
    "z_1 = Ax + By + C, z_2 = Ds + Et + F, то\n",
    "\\end{equation}\n",
    "\\begin{equation}\n",
    "z = \\alpha z_1 + \\beta z_2 = \\alpha Ax + \\alpha By + \\alpha C + \\beta Ds + \\beta Et + \\beta F = A_1x + B_1y + D_1s + E_1t + F_1\n",
    "\\end{equation}\n",
    "И по сути ансамбль линейной регрессии - это просто линейная регрессия по всем переменным. Но при использовании небольших наборов (чтобы исключить переобучение) связанных переменных для разных моделей регрессии можно получить небольшой выигрыш.\n",
    "\n",
    "Ансамбль регрессии в нашем случае не дает никакого улучшения относительно регрессии по совокупному набору параметров.\n",
    "\n",
    "Однако, использование усредненной суммы показателей каждой конкретной модели дало выигрыш порядка 6% относительно модели по всем показателям. В этом случае сумму моделей линейной регрессии \"компенсирует\" ошибки каждой конкретной модели и работает точнее."
   ]
  },
  {
   "cell_type": "code",
   "execution_count": 28,
   "metadata": {},
   "outputs": [
    {
     "name": "stderr",
     "output_type": "stream",
     "text": [
      "<ipython-input-27-f183ec8eab26>:6: RuntimeWarning: overflow encountered in exp\n",
      "  lr = np.exp(lr)\n"
     ]
    },
    {
     "name": "stdout",
     "output_type": "stream",
     "text": [
      "5.8755614566891925\n",
      "10.815833230914512\n"
     ]
    }
   ],
   "source": [
    "energy_test = energy_test.apply(calculate_models_ensemble,axis=1,result_type='expand')\n",
    "\n",
    "print(np.sqrt(energy_test['meter_reading_lr_q'].sum() / len(energy_test)))\n",
    "print(np.sqrt(energy_test['meter_reading_sum_q'].sum() / len(energy_test)))"
   ]
  },
  {
   "cell_type": "code",
   "execution_count": null,
   "metadata": {},
   "outputs": [],
   "source": []
  }
 ],
 "metadata": {
  "kernelspec": {
   "display_name": "Python 3",
   "language": "python",
   "name": "python3"
  },
  "language_info": {
   "codemirror_mode": {
    "name": "ipython",
    "version": 3
   },
   "file_extension": ".py",
   "mimetype": "text/x-python",
   "name": "python",
   "nbconvert_exporter": "python",
   "pygments_lexer": "ipython3",
   "version": "3.8.3"
  }
 },
 "nbformat": 4,
 "nbformat_minor": 4
}
