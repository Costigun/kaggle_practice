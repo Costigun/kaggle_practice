{
 "cells": [
  {
   "cell_type": "markdown",
   "metadata": {},
   "source": [
    "### Постановка задачи\n",
    "Рассмотрим несколько моделей линейной регрессии, чтобы выяснить более оптимальную для первых 20 зданий.\n",
    "\n",
    "Данные:\n",
    "* http://video.ittensive.com/machine-learning/ashrae/building_metadata.csv.gz\n",
    "* http://video.ittensive.com/machine-learning/ashrae/weather_train.csv.gz\n",
    "* http://video.ittensive.com/machine-learning/ashrae/train.0.csv.gz\n",
    "Соревнование: https://www.kaggle.com/c/ashrae-energy-prediction/\n",
    "\n",
    "© ITtensive, 2020"
   ]
  },
  {
   "cell_type": "code",
   "execution_count": 1,
   "metadata": {},
   "outputs": [],
   "source": [
    "import pandas as pd\n",
    "from pandas.tseries.holiday import USFederalHolidayCalendar as calendar\n",
    "import numpy as np\n",
    "from scipy.interpolate import interp1d\n",
    "from sklearn.model_selection import train_test_split\n",
    "from sklearn.linear_model import LinearRegression, Lasso, Ridge, ElasticNet, BayesianRidge"
   ]
  },
  {
   "cell_type": "code",
   "execution_count": 2,
   "metadata": {},
   "outputs": [],
   "source": [
    "def reduce_mem_usage (df):\n",
    "    start_mem = df.memory_usage().sum() / 1024**2    \n",
    "    for col in df.columns:\n",
    "        col_type = df[col].dtypes\n",
    "        if str(col_type)[:5] == \"float\":\n",
    "            c_min = df[col].min()\n",
    "            c_max = df[col].max()\n",
    "            if c_min > np.finfo(\"f2\").min and c_max < np.finfo(\"f2\").max:\n",
    "                df[col] = df[col].astype(np.float16)\n",
    "            elif c_min > np.finfo(\"f4\").min and c_max < np.finfo(\"f4\").max:\n",
    "                df[col] = df[col].astype(np.float32)\n",
    "            else:\n",
    "                df[col] = df[col].astype(np.float64)\n",
    "        elif str(col_type)[:3] == \"int\":\n",
    "            c_min = df[col].min()\n",
    "            c_max = df[col].max()\n",
    "            if c_min > np.iinfo(\"i1\").min and c_max < np.iinfo(\"i1\").max:\n",
    "                df[col] = df[col].astype(np.int8)\n",
    "            elif c_min > np.iinfo(\"i2\").min and c_max < np.iinfo(\"i2\").max:\n",
    "                df[col] = df[col].astype(np.int16)\n",
    "            elif c_min > np.iinfo(\"i4\").min and c_max < np.iinfo(\"i4\").max:\n",
    "                df[col] = df[col].astype(np.int32)\n",
    "            elif c_min > np.iinfo(\"i8\").min and c_max < np.iinfo(\"i8\").max:\n",
    "                df[col] = df[col].astype(np.int64)\n",
    "        elif col == \"timestamp\":\n",
    "            df[col] = pd.to_datetime(df[col])\n",
    "        elif str(col_type)[:8] != \"datetime\":\n",
    "            df[col] = df[col].astype(\"category\")\n",
    "    end_mem = df.memory_usage().sum() / 1024**2\n",
    "    print('Потребление памяти меньше на', round(start_mem - end_mem, 2), 'Мб (минус', round(100 * (start_mem - end_mem) / start_mem, 1), '%)')\n",
    "    return df"
   ]
  },
  {
   "cell_type": "code",
   "execution_count": 3,
   "metadata": {},
   "outputs": [
    {
     "name": "stdout",
     "output_type": "stream",
     "text": [
      "Потребление памяти меньше на 10.39 Мб (минус 70.5 %)\n",
      "<class 'pandas.core.frame.DataFrame'>\n",
      "RangeIndex: 175680 entries, 0 to 175679\n",
      "Data columns (total 11 columns):\n",
      " #   Column              Non-Null Count   Dtype         \n",
      "---  ------              --------------   -----         \n",
      " 0   timestamp           175680 non-null  datetime64[ns]\n",
      " 1   building_id         175680 non-null  int8          \n",
      " 2   meter_reading       175680 non-null  float16       \n",
      " 3   primary_use         175680 non-null  category      \n",
      " 4   air_temperature     175620 non-null  float16       \n",
      " 5   cloud_coverage      99080 non-null   float16       \n",
      " 6   dew_temperature     175620 non-null  float16       \n",
      " 7   precip_depth_1_hr   175660 non-null  float16       \n",
      " 8   sea_level_pressure  173980 non-null  float16       \n",
      " 9   wind_direction      170680 non-null  float16       \n",
      " 10  wind_speed          175680 non-null  float16       \n",
      "dtypes: category(1), datetime64[ns](1), float16(8), int8(1)\n",
      "memory usage: 4.4 MB\n",
      "None\n"
     ]
    }
   ],
   "source": [
    "buildings = pd.read_csv(\"http://video.ittensive.com/machine-learning/ashrae/building_metadata.csv.gz\")\n",
    "weather = pd.read_csv(\"http://video.ittensive.com/machine-learning/ashrae/weather_train.csv.gz\")\n",
    "energy = pd.read_csv(\"http://video.ittensive.com/machine-learning/ashrae/train.0.csv.gz\")\n",
    "energy = energy[(energy[\"building_id\"]<20)]\n",
    "energy = pd.merge(left=energy, right=buildings, how=\"left\",\n",
    "                   left_on=\"building_id\", right_on=\"building_id\")\n",
    "energy = energy.set_index([\"timestamp\", \"site_id\"])\n",
    "weather = weather.set_index([\"timestamp\", \"site_id\"])\n",
    "energy = pd.merge(left=energy, right=weather, how=\"left\",\n",
    "                  left_index=True, right_index=True)\n",
    "energy.reset_index(inplace=True)\n",
    "energy = energy.drop(columns=[\"meter\", \"site_id\", \"year_built\",\n",
    "                              \"square_feet\", \"floor_count\"], axis=1)\n",
    "del buildings\n",
    "del weather\n",
    "energy = reduce_mem_usage(energy)\n",
    "print (energy.info())"
   ]
  },
  {
   "cell_type": "markdown",
   "metadata": {},
   "source": [
    "Получите данные по энергопотреблению первых 20 зданий (building_id от 0 до 19).\n",
    "\n",
    "Заполните отсутствующие значения по погоде интерполяционными данными.\n",
    "\n",
    "Разделите данные на обучающие/проверочные в пропорции 80/20.\n",
    "\n",
    "Постройте (1) первый набор моделей линейной регрессии по часам для каждого из первых 20 зданий по следующим параметрам: air_temperature, dew_temperature, cloud_coverage, wind_speed, sea_level_pressure.\n",
    "\n",
    "Постройте для этих же 20 зданий (2) второй набор моделей линейной регрессии по часам по параметрам: дни недели и праздники (is_holiday). Требуется построить еще 480 моделей.\n",
    "\n",
    "Используйте логарифм целевого показателя (meter_reading_log) для обоих наборов моделей."
   ]
  },
  {
   "cell_type": "code",
   "execution_count": 4,
   "metadata": {},
   "outputs": [],
   "source": [
    "energy_lr = []\n",
    "energy_ridge = []\n",
    "temp_columns = ['meter_reading_log','sea_level_pressure','air_temperature',\n",
    "                'dew_temperature','cloud_coverage','wind_speed','building_id']\n",
    "energy[\"hour\"] = energy[\"timestamp\"].dt.hour.astype(\"int8\")\n",
    "energy[\"weekday\"] = energy[\"timestamp\"].dt.weekday.astype(\"int8\")\n",
    "for weekday in range(0,7):\n",
    "    energy['is_wday' + str(weekday)] = energy['weekday'].isin([weekday]).astype(\"int8\")\n",
    "energy[\"date\"] = pd.to_datetime(energy[\"timestamp\"].dt.date)\n",
    "dates_range = pd.date_range(start='2015-12-31', end='2017-01-01')\n",
    "us_holidays = calendar().holidays(start=dates_range.min(),\n",
    "                                  end=dates_range.max())\n",
    "energy['is_holiday'] = energy['date'].isin(us_holidays).astype(\"int8\")\n",
    "energy[\"meter_reading_log\"] = np.log(energy[\"meter_reading\"] + 1)\n",
    "for col in temp_columns:\n",
    "    energy[col] = energy[col].interpolate(limit_direction='both',kind='cubic')"
   ]
  },
  {
   "cell_type": "code",
   "execution_count": 5,
   "metadata": {},
   "outputs": [],
   "source": [
    "energy_train,energy_test = train_test_split(energy[energy['meter_reading'] > 0],test_size=0.2)"
   ]
  },
  {
   "cell_type": "code",
   "execution_count": 6,
   "metadata": {},
   "outputs": [],
   "source": [
    "models = {\n",
    "    'LinearRegression':LinearRegression,\n",
    "    'Ridge-0.1':Ridge,\n",
    "    'Ridge-1.0':Ridge,\n",
    "    'Ridge-0.01':Ridge\n",
    "}\n",
    "energy_train_lr = pd.DataFrame(energy_train,columns=['meter_reading_log','sea_level_pressure','air_temperature',\n",
    "                'dew_temperature','cloud_coverage','wind_speed','building_id','hour'])"
   ]
  },
  {
   "cell_type": "code",
   "execution_count": 7,
   "metadata": {},
   "outputs": [],
   "source": [
    "from sklearn.metrics import *"
   ]
  },
  {
   "cell_type": "code",
   "execution_count": 8,
   "metadata": {},
   "outputs": [],
   "source": [
    "hours = range(0,24)\n",
    "temp_models_scores = {}\n",
    "lr_model = None\n",
    "buildings = range(0,energy_train_lr['building_id'].max() + 1)\n",
    "for model in models:\n",
    "    energy_lr_scores = [[]]*len(buildings)\n",
    "    for building in buildings:\n",
    "        energy_lr_scores[building] = [0] * len(hours)\n",
    "        energy_train_b = energy_train_lr[energy_train_lr['building_id'] == building]\n",
    "        for hour in hours:\n",
    "            energy_train_bh = energy_train_b[energy_train_b['hour'] == hour]\n",
    "            y = energy_train_bh['meter_reading_log']\n",
    "            x = energy_train_bh.drop(['meter_reading_log','building_id','hour'],axis=1)\n",
    "            if model == 'LinearRegression':\n",
    "                lr_model = LinearRegression(fit_intercept=False).fit(x,y)\n",
    "            elif model == 'Ridge-0.1':\n",
    "                lr_model = Ridge(alpha=0.1,fit_intercept=False).fit(x,y)\n",
    "            elif model == 'Ridge-1.0':\n",
    "                lr_model = Ridge(alpha=1,fit_intercept=False).fit(x,y)\n",
    "            else:\n",
    "                lr_model = Ridge(alpha=0.01,fit_intercept=False).fit(x,y)\n",
    "            energy_lr_scores[building] = r2_score(y,lr_model.predict(x))\n",
    "    temp_models_scores[model] = np.mean(energy_lr_scores)"
   ]
  },
  {
   "cell_type": "code",
   "execution_count": 9,
   "metadata": {},
   "outputs": [
    {
     "data": {
      "text/plain": [
       "{'LinearRegression': 0.25188455048951247,\n",
       " 'Ridge-0.1': 0.2518845790846912,\n",
       " 'Ridge-1.0': 0.2518844785576621,\n",
       " 'Ridge-0.01': 0.25188458009377884}"
      ]
     },
     "execution_count": 9,
     "metadata": {},
     "output_type": "execute_result"
    }
   ],
   "source": [
    "temp_models_scores"
   ]
  },
  {
   "cell_type": "code",
   "execution_count": null,
   "metadata": {},
   "outputs": [],
   "source": [
    "energy[\"hour\"] = energy[\"timestamp\"].dt.hour.astype(\"int8\")\n",
    "energy[\"weekday\"] = energy[\"timestamp\"].dt.weekday.astype(\"int8\")\n",
    "for weekday in range(0,7):\n",
    "    energy['is_wday' + str(weekday)] = energy['weekday'].isin([weekday]).astype(\"int8\")\n",
    "energy[\"date\"] = pd.to_datetime(energy[\"timestamp\"].dt.date)\n",
    "dates_range = pd.date_range(start='2015-12-31', end='2017-01-01')\n",
    "us_holidays = calendar().holidays(start=dates_range.min(),\n",
    "                                  end=dates_range.max())\n",
    "energy['is_holiday'] = energy['date'].isin(us_holidays).astype(\"int8\")\n",
    "energy[\"meter_reading_log\"] = np.log(energy[\"meter_reading\"] + 1)"
   ]
  },
  {
   "cell_type": "code",
   "execution_count": null,
   "metadata": {},
   "outputs": [],
   "source": [
    "energy_train,energy_test = train_test_split(energy[energy['meter_reading'] > 0],test_size=0.2)"
   ]
  },
  {
   "cell_type": "code",
   "execution_count": null,
   "metadata": {},
   "outputs": [],
   "source": [
    "hours = range(0,24)\n",
    "buildings = range(0,energy_train['building_id'].max() + 1)\n",
    "time_models_scores = {}\n",
    "time_model = None\n",
    "time_columns = [\"meter_reading_log\", \"hour\", \"building_id\", \"is_holiday\"]\n",
    "for wday in range(0,7):\n",
    "    time_columns.append(\"is_wday\" + str(wday))\n",
    "len(time_columns)\n",
    "energy_train_time = pd.DataFrame(energy_train,columns=time_columns)"
   ]
  },
  {
   "cell_type": "code",
   "execution_count": null,
   "metadata": {},
   "outputs": [],
   "source": [
    "energy_train_time.head()"
   ]
  },
  {
   "cell_type": "code",
   "execution_count": null,
   "metadata": {},
   "outputs": [],
   "source": [
    "for model in models:\n",
    "    energy_time_scores = [[]] * len(buildings)\n",
    "    for building in buildings:\n",
    "        energy_time_scores[building] = [0]*len(hours)\n",
    "        energy_train_time_b = energy_train_time[energy_train_time['building_id'] == building]\n",
    "        for hour in hours:\n",
    "            energy_train_time_bh = energy_train_time_b[energy_train_time_b['hour'] == hour]\n",
    "            y = energy_train_time_bh['meter_reading_log']\n",
    "            x = energy_train_time_bh.drop(['meter_reading_log','hour','building_id'],axis=1)\n",
    "            if model == 'LinearRegression':\n",
    "                time_model = LinearRegression(fit_intercept=False).fit(x,y)\n",
    "            elif model == 'Ridge-0.1':\n",
    "                time_model = Ridge(alpha=0.1,fit_intercept=False).fit(x,y)\n",
    "            elif model == 'Ridge-1.0':\n",
    "                time_model = Ridge(alpha=1,fit_intercept=False).fit(x,y)\n",
    "            else:\n",
    "                time_model = Ridge(alpha=0.01,fit_intercept=False).fit(x,y)\n",
    "            energy_time_scores[building][hour] = r2_score(y,time_model.predict(x))\n",
    "    time_models_scores[model] = np.mean(energy_time_scores)"
   ]
  },
  {
   "cell_type": "code",
   "execution_count": null,
   "metadata": {},
   "outputs": [],
   "source": [
    "time_models_scores"
   ]
  },
  {
   "cell_type": "code",
   "execution_count": null,
   "metadata": {},
   "outputs": [],
   "source": []
  }
 ],
 "metadata": {
  "kernelspec": {
   "display_name": "Python 3",
   "language": "python",
   "name": "python3"
  },
  "language_info": {
   "codemirror_mode": {
    "name": "ipython",
    "version": 3
   },
   "file_extension": ".py",
   "mimetype": "text/x-python",
   "name": "python",
   "nbconvert_exporter": "python",
   "pygments_lexer": "ipython3",
   "version": "3.8.3"
  }
 },
 "nbformat": 4,
 "nbformat_minor": 4
}
