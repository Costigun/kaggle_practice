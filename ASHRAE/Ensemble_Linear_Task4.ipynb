{
 "cells": [
  {
   "cell_type": "markdown",
   "metadata": {},
   "source": [
    "Загрузите данные и посчитайте модели линейной регрессии для 50 зданий по ансамблю регрессионных моделей: в первой модели весь оптимальный набор метеорологических данных, во второй - дни недели и праздники, в третьей - недели года, в четвертой - месяцы. Финальное значение показателя рассчитайте как взвешенное арифметическое показателей всех моделей, взяв веса для первой и второй модели как 3/8, а для третьей и четвертой - как 1/8.\n",
    "\n",
    "Загрузите данные решения, посчитайте значение энергопотребления для требуемых дат для тех зданий, которые посчитаны в модели, и выгрузите результат в виде CSV-файла (submission.csv).\n",
    "\n",
    "Данные:"
   ]
  },
  {
   "cell_type": "markdown",
   "metadata": {},
   "source": [
    "http://video.ittensive.com/machine-learning/ashrae/building_metadata.csv.gz\n",
    "\n",
    "http://video.ittensive.com/machine-learning/ashrae/weather_train.csv.gz\n",
    "\n",
    "http://video.ittensive.com/machine-learning/ashrae/train.0.csv.gz\n",
    "\n",
    "http://video.ittensive.com/machine-learning/ashrae/test.csv.gz\n",
    "\n",
    "http://video.ittensive.com/machine-learning/ashrae/weather_test.csv.gz\n",
    "### Сколько строк в итоговом файле имеют ненулевое значение для показателя meter_reading"
   ]
  },
  {
   "cell_type": "code",
   "execution_count": 1,
   "metadata": {},
   "outputs": [],
   "source": [
    "import pandas as pd\n",
    "from pandas.tseries.holiday import USFederalHolidayCalendar as calendar\n",
    "import numpy as np\n",
    "from scipy.interpolate import interp1d\n",
    "from sklearn.linear_model import LinearRegression"
   ]
  },
  {
   "cell_type": "code",
   "execution_count": null,
   "metadata": {},
   "outputs": [],
   "source": []
  },
  {
   "cell_type": "code",
   "execution_count": 2,
   "metadata": {},
   "outputs": [],
   "source": [
    "def reduce_mem_usage (df):\n",
    "    start_mem = df.memory_usage().sum() / 1024**2    \n",
    "    for col in df.columns:\n",
    "        col_type = df[col].dtypes\n",
    "        if str(col_type)[:5] == \"float\":\n",
    "            c_min = df[col].min()\n",
    "            c_max = df[col].max()\n",
    "            if c_min > np.finfo(\"f2\").min and c_max < np.finfo(\"f2\").max:\n",
    "                df[col] = df[col].astype(np.float16)\n",
    "            elif c_min > np.finfo(\"f4\").min and c_max < np.finfo(\"f4\").max:\n",
    "                df[col] = df[col].astype(np.float32)\n",
    "            else:\n",
    "                df[col] = df[col].astype(np.float64)\n",
    "        elif str(col_type)[:3] == \"int\":\n",
    "            c_min = df[col].min()\n",
    "            c_max = df[col].max()\n",
    "            if c_min > np.iinfo(\"i1\").min and c_max < np.iinfo(\"i1\").max:\n",
    "                df[col] = df[col].astype(np.int8)\n",
    "            elif c_min > np.iinfo(\"i2\").min and c_max < np.iinfo(\"i2\").max:\n",
    "                df[col] = df[col].astype(np.int16)\n",
    "            elif c_min > np.iinfo(\"i4\").min and c_max < np.iinfo(\"i4\").max:\n",
    "                df[col] = df[col].astype(np.int32)\n",
    "            elif c_min > np.iinfo(\"i8\").min and c_max < np.iinfo(\"i8\").max:\n",
    "                df[col] = df[col].astype(np.int64)\n",
    "        elif col == \"timestamp\":\n",
    "            df[col] = pd.to_datetime(df[col])\n",
    "        elif str(col_type)[:8] != \"datetime\":\n",
    "            df[col] = df[col].astype(\"category\")\n",
    "    end_mem = df.memory_usage().sum() / 1024**2\n",
    "    print('Потребление памяти меньше на', round(start_mem - end_mem, 2), 'Мб (минус', round(100 * (start_mem - end_mem) / start_mem, 1), '%)')\n",
    "    return df"
   ]
  },
  {
   "cell_type": "code",
   "execution_count": 4,
   "metadata": {},
   "outputs": [],
   "source": [
    "buildings = pd.read_csv('http://video.ittensive.com/machine-learning/ashrae/building_metadata.csv.gz',\n",
    "                        usecols=[\"site_id\", \"building_id\"])\n",
    "weather = pd.read_csv('http://video.ittensive.com/machine-learning/ashrae/weather_test.csv.gz')\n",
    "weather = weather[weather['site_id'] == 0].drop('wind_direction',axis=1)\n",
    "results = pd.read_csv('http://video.ittensive.com/machine-learning/ashrae/test.csv.gz')\n",
    "results = results[(results['building_id'] < 50) & (results['meter'] == 0)]\n",
    "# http://video.ittensive.com/machine-learning/ashrae/weather_train.csv.gz\n",
    "energy = pd.read_csv('energy.0-20.ready.csv')\n",
    "results = pd.merge(left=results, right=buildings, how=\"left\",\n",
    "                   left_on=\"building_id\", right_on=\"building_id\")\n",
    "del buildings\n",
    "results = results.drop('meter',axis=1)\n"
   ]
  },
  {
   "cell_type": "code",
   "execution_count": 5,
   "metadata": {},
   "outputs": [
    {
     "name": "stdout",
     "output_type": "stream",
     "text": [
      "<class 'pandas.core.frame.DataFrame'>\n",
      "Int64Index: 876000 entries, 0 to 875999\n",
      "Data columns (total 4 columns):\n",
      " #   Column       Non-Null Count   Dtype \n",
      "---  ------       --------------   ----- \n",
      " 0   row_id       876000 non-null  int64 \n",
      " 1   building_id  876000 non-null  int64 \n",
      " 2   timestamp    876000 non-null  object\n",
      " 3   site_id      876000 non-null  int64 \n",
      "dtypes: int64(3), object(1)\n",
      "memory usage: 33.4+ MB\n"
     ]
    }
   ],
   "source": [
    "results.info()"
   ]
  },
  {
   "cell_type": "code",
   "execution_count": 6,
   "metadata": {},
   "outputs": [],
   "source": [
    "interpolate_columns = ['air_temperature','dew_temperature','wind_speed',\n",
    "                       'cloud_coverage','sea_level_pressure']\n",
    "for col in interpolate_columns:\n",
    "    weather[col] = weather[col].interpolate(limit_direction='both',kind='cubic')\n",
    "weather['air_temperature_diff1'] = weather['air_temperature'].diff()\n",
    "weather.at[0,'air_temperature_diff1'] = weather.at[1,'air_temperature_diff1']\n",
    "weather['air_temperature_diff2'] = weather['air_temperature_diff1'].diff()\n",
    "weather.at[0,'air_temperature_diff2'] = weather.at[1,'air_temperature_diff2']"
   ]
  },
  {
   "cell_type": "code",
   "execution_count": 7,
   "metadata": {},
   "outputs": [
    {
     "name": "stdout",
     "output_type": "stream",
     "text": [
      "Потребление памяти меньше на 49.29 Мб (минус 67.0 %)\n"
     ]
    }
   ],
   "source": [
    "results = results.set_index(['site_id','timestamp'])\n",
    "weather = weather.set_index(['site_id','timestamp'])\n",
    "results = pd.merge(left=results,right=weather,how='left',left_index=True,right_index=True)\n",
    "results.reset_index(inplace=True)\n",
    "results = results.drop(['site_id'],axis=1)\n",
    "results = reduce_mem_usage(results)"
   ]
  },
  {
   "cell_type": "markdown",
   "metadata": {},
   "source": [
    "### results.info()"
   ]
  },
  {
   "cell_type": "code",
   "execution_count": 12,
   "metadata": {},
   "outputs": [],
   "source": [
    "results['hour'] = results['timestamp'].dt.hour.astype('int8')\n",
    "results['weekday'] = results['timestamp'].dt.weekday.astype('int8')\n",
    "results['week'] = results['timestamp'].dt.week.astype('int8')\n",
    "results['month'] = results['timestamp'].dt.month.astype('int8')\n",
    "results['date'] = pd.to_datetime(results['timestamp'].dt.date)\n",
    "\n",
    "\n",
    "dates_range = pd.date_range(start='2015-12-31',end='2017-01-01')\n",
    "us_holidays = calendar().holidays(start=dates_range.min(),end=dates_range.max())\n",
    "results['is_holiday'] = results['date'].isin(us_holidays).astype('int8')\n",
    "for weekday in range(0,7):\n",
    "    results['is_wday' + str(weekday)] = results['weekday'].isin([weekday]).astype('int8')\n",
    "for week in range(1,54):\n",
    "    results['is_w' + str(week)] = results['week'].isin([week]).astype('int8')\n",
    "for month in range(1,13):\n",
    "    results['is_m' + str(month)] = results['month'].isin([month]).astype('int8')"
   ]
  },
  {
   "cell_type": "code",
   "execution_count": 13,
   "metadata": {},
   "outputs": [
    {
     "name": "stdout",
     "output_type": "stream",
     "text": [
      "<class 'pandas.core.frame.DataFrame'>\n",
      "RangeIndex: 175680 entries, 0 to 175679\n",
      "Data columns (total 92 columns):\n",
      " #   Column                 Non-Null Count   Dtype  \n",
      "---  ------                 --------------   -----  \n",
      " 0   timestamp              175680 non-null  object \n",
      " 1   building_id            175680 non-null  int64  \n",
      " 2   meter_reading          175680 non-null  float64\n",
      " 3   primary_use            175680 non-null  object \n",
      " 4   air_temperature        175680 non-null  float64\n",
      " 5   cloud_coverage         175680 non-null  float64\n",
      " 6   dew_temperature        175680 non-null  float64\n",
      " 7   precip_depth_1_hr      175680 non-null  float64\n",
      " 8   sea_level_pressure     175680 non-null  float64\n",
      " 9   wind_direction         175680 non-null  float64\n",
      " 10  wind_speed             175680 non-null  float64\n",
      " 11  air_temperature_diff1  175680 non-null  float64\n",
      " 12  air_temperature_diff2  175680 non-null  float64\n",
      " 13  hour                   175680 non-null  int64  \n",
      " 14  weekday                175680 non-null  int64  \n",
      " 15  week                   175680 non-null  int64  \n",
      " 16  month                  175680 non-null  int64  \n",
      " 17  date                   175680 non-null  object \n",
      " 18  is_holiday             175680 non-null  int64  \n",
      " 19  is_wday0               175680 non-null  int64  \n",
      " 20  is_wday1               175680 non-null  int64  \n",
      " 21  is_wday2               175680 non-null  int64  \n",
      " 22  is_wday3               175680 non-null  int64  \n",
      " 23  is_wday4               175680 non-null  int64  \n",
      " 24  is_wday5               175680 non-null  int64  \n",
      " 25  is_wday6               175680 non-null  int64  \n",
      " 26  is_w1                  175680 non-null  int64  \n",
      " 27  is_w2                  175680 non-null  int64  \n",
      " 28  is_w3                  175680 non-null  int64  \n",
      " 29  is_w4                  175680 non-null  int64  \n",
      " 30  is_w5                  175680 non-null  int64  \n",
      " 31  is_w6                  175680 non-null  int64  \n",
      " 32  is_w7                  175680 non-null  int64  \n",
      " 33  is_w8                  175680 non-null  int64  \n",
      " 34  is_w9                  175680 non-null  int64  \n",
      " 35  is_w10                 175680 non-null  int64  \n",
      " 36  is_w11                 175680 non-null  int64  \n",
      " 37  is_w12                 175680 non-null  int64  \n",
      " 38  is_w13                 175680 non-null  int64  \n",
      " 39  is_w14                 175680 non-null  int64  \n",
      " 40  is_w15                 175680 non-null  int64  \n",
      " 41  is_w16                 175680 non-null  int64  \n",
      " 42  is_w17                 175680 non-null  int64  \n",
      " 43  is_w18                 175680 non-null  int64  \n",
      " 44  is_w19                 175680 non-null  int64  \n",
      " 45  is_w20                 175680 non-null  int64  \n",
      " 46  is_w21                 175680 non-null  int64  \n",
      " 47  is_w22                 175680 non-null  int64  \n",
      " 48  is_w23                 175680 non-null  int64  \n",
      " 49  is_w24                 175680 non-null  int64  \n",
      " 50  is_w25                 175680 non-null  int64  \n",
      " 51  is_w26                 175680 non-null  int64  \n",
      " 52  is_w27                 175680 non-null  int64  \n",
      " 53  is_w28                 175680 non-null  int64  \n",
      " 54  is_w29                 175680 non-null  int64  \n",
      " 55  is_w30                 175680 non-null  int64  \n",
      " 56  is_w31                 175680 non-null  int64  \n",
      " 57  is_w32                 175680 non-null  int64  \n",
      " 58  is_w33                 175680 non-null  int64  \n",
      " 59  is_w34                 175680 non-null  int64  \n",
      " 60  is_w35                 175680 non-null  int64  \n",
      " 61  is_w36                 175680 non-null  int64  \n",
      " 62  is_w37                 175680 non-null  int64  \n",
      " 63  is_w38                 175680 non-null  int64  \n",
      " 64  is_w39                 175680 non-null  int64  \n",
      " 65  is_w40                 175680 non-null  int64  \n",
      " 66  is_w41                 175680 non-null  int64  \n",
      " 67  is_w42                 175680 non-null  int64  \n",
      " 68  is_w43                 175680 non-null  int64  \n",
      " 69  is_w44                 175680 non-null  int64  \n",
      " 70  is_w45                 175680 non-null  int64  \n",
      " 71  is_w46                 175680 non-null  int64  \n",
      " 72  is_w47                 175680 non-null  int64  \n",
      " 73  is_w48                 175680 non-null  int64  \n",
      " 74  is_w49                 175680 non-null  int64  \n",
      " 75  is_w50                 175680 non-null  int64  \n",
      " 76  is_w51                 175680 non-null  int64  \n",
      " 77  is_w52                 175680 non-null  int64  \n",
      " 78  is_w53                 175680 non-null  int64  \n",
      " 79  is_m1                  175680 non-null  int64  \n",
      " 80  is_m2                  175680 non-null  int64  \n",
      " 81  is_m3                  175680 non-null  int64  \n",
      " 82  is_m4                  175680 non-null  int64  \n",
      " 83  is_m5                  175680 non-null  int64  \n",
      " 84  is_m6                  175680 non-null  int64  \n",
      " 85  is_m7                  175680 non-null  int64  \n",
      " 86  is_m8                  175680 non-null  int64  \n",
      " 87  is_m9                  175680 non-null  int64  \n",
      " 88  is_m10                 175680 non-null  int64  \n",
      " 89  is_m11                 175680 non-null  int64  \n",
      " 90  is_m12                 175680 non-null  int64  \n",
      " 91  meter_reading_log      175680 non-null  float64\n",
      "dtypes: float64(11), int64(78), object(3)\n",
      "memory usage: 123.3+ MB\n"
     ]
    }
   ],
   "source": [
    "energy.info()"
   ]
  },
  {
   "cell_type": "code",
   "execution_count": 14,
   "metadata": {},
   "outputs": [],
   "source": [
    "lr_weather_columns = ['air_temperature','air_temperature_diff1','air_temperature_diff2',\n",
    "                     'cloud_coverage','dew_temperature','wind_speed','sea_level_pressure','building_id','hour',\n",
    "                     'meter_reading_log']\n",
    "lr_days_columns = ['hour','building_id','meter_reading_log','is_holiday']\n",
    "for weekday in range(0,7):\n",
    "    lr_days_columns.append('is_wday' + str(weekday))\n",
    "for week in range(1,54):\n",
    "    lr_days_columns.append('is_w' + str(week))\n",
    "for month in range(1,13):\n",
    "    lr_days_columns.append('is_m' + str(month))\n"
   ]
  },
  {
   "cell_type": "code",
   "execution_count": 16,
   "metadata": {},
   "outputs": [],
   "source": [
    "from sklearn.model_selection import train_test_split\n",
    "energy_train,energy_test = train_test_split(energy[energy['meter_reading'] > 0], test_size=0.2) #80/20"
   ]
  },
  {
   "cell_type": "code",
   "execution_count": 15,
   "metadata": {},
   "outputs": [
    {
     "data": {
      "text/plain": [
       "19"
      ]
     },
     "execution_count": 15,
     "metadata": {},
     "output_type": "execute_result"
    }
   ],
   "source": [
    "hours = range(0,24)\n",
    "buildings = range(0,energy['building_id'].max())\n",
    "energy_train_weather = pd.DataFrame(energy_train,columns=lr_weather_columns)"
   ]
  },
  {
   "cell_type": "code",
   "execution_count": 17,
   "metadata": {},
   "outputs": [],
   "source": [
    "def calculate_model(x,df_lr,lr_columns):\n",
    "    lr = -1\n",
    "    model = df_lr[x.building_id][x.hour]\n",
    "    if len(model) > 0:\n",
    "        lr = np.sum([x[c] * model[i] for i,c in enumerate(lr_columns[3:])])\n",
    "        lr += model[len(lr_columns) - 3]\n",
    "        lr = np.exp(lr)\n",
    "    if lr < 0 or lr * lr == lr:\n",
    "        lr = 0\n",
    "    x['meter_reading_lr_q'] = (np.log(x.meter_reading + 1) - np.log(1 + lr)) ** 2\n",
    "    return x"
   ]
  },
  {
   "cell_type": "code",
   "execution_count": 18,
   "metadata": {},
   "outputs": [],
   "source": [
    "def train_model(df,columns):\n",
    "    df_test_lr = pd.DataFrame(df,columns=columns)"
   ]
  },
  {
   "cell_type": "code",
   "execution_count": null,
   "metadata": {},
   "outputs": [],
   "source": []
  }
 ],
 "metadata": {
  "kernelspec": {
   "display_name": "Python 3",
   "language": "python",
   "name": "python3"
  },
  "language_info": {
   "codemirror_mode": {
    "name": "ipython",
    "version": 3
   },
   "file_extension": ".py",
   "mimetype": "text/x-python",
   "name": "python",
   "nbconvert_exporter": "python",
   "pygments_lexer": "ipython3",
   "version": "3.8.3"
  }
 },
 "nbformat": 4,
 "nbformat_minor": 4
}
