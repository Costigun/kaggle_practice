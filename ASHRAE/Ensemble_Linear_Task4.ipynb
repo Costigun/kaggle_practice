{
 "cells": [
  {
   "cell_type": "markdown",
   "metadata": {},
   "source": [
    "Загрузите данные и посчитайте модели линейной регрессии для 50 зданий по ансамблю регрессионных моделей: в первой модели весь оптимальный набор метеорологических данных, во второй - дни недели и праздники, в третьей - недели года, в четвертой - месяцы. Финальное значение показателя рассчитайте как взвешенное арифметическое показателей всех моделей, взяв веса для первой и второй модели как 3/8, а для третьей и четвертой - как 1/8.\n",
    "\n",
    "Загрузите данные решения, посчитайте значение энергопотребления для требуемых дат для тех зданий, которые посчитаны в модели, и выгрузите результат в виде CSV-файла (submission.csv).\n",
    "\n",
    "Данные:"
   ]
  },
  {
   "cell_type": "markdown",
   "metadata": {},
   "source": [
    "http://video.ittensive.com/machine-learning/ashrae/building_metadata.csv.gz\n",
    "\n",
    "http://video.ittensive.com/machine-learning/ashrae/weather_train.csv.gz\n",
    "\n",
    "http://video.ittensive.com/machine-learning/ashrae/train.0.csv.gz\n",
    "\n",
    "http://video.ittensive.com/machine-learning/ashrae/test.csv.gz\n",
    "\n",
    "http://video.ittensive.com/machine-learning/ashrae/weather_test.csv.gz\n",
    "### Сколько строк в итоговом файле имеют ненулевое значение для показателя meter_reading"
   ]
  },
  {
   "cell_type": "code",
   "execution_count": 1,
   "metadata": {},
   "outputs": [],
   "source": [
    "import pandas as pd\n",
    "from pandas.tseries.holiday import USFederalHolidayCalendar as calendar\n",
    "import numpy as np\n",
    "from scipy.interpolate import interp1d\n",
    "from sklearn.linear_model import LinearRegression"
   ]
  },
  {
   "cell_type": "code",
   "execution_count": null,
   "metadata": {},
   "outputs": [],
   "source": []
  },
  {
   "cell_type": "code",
   "execution_count": 2,
   "metadata": {},
   "outputs": [],
   "source": [
    "def reduce_mem_usage (df):\n",
    "    start_mem = df.memory_usage().sum() / 1024**2    \n",
    "    for col in df.columns:\n",
    "        col_type = df[col].dtypes\n",
    "        if str(col_type)[:5] == \"float\":\n",
    "            c_min = df[col].min()\n",
    "            c_max = df[col].max()\n",
    "            if c_min > np.finfo(\"f2\").min and c_max < np.finfo(\"f2\").max:\n",
    "                df[col] = df[col].astype(np.float16)\n",
    "            elif c_min > np.finfo(\"f4\").min and c_max < np.finfo(\"f4\").max:\n",
    "                df[col] = df[col].astype(np.float32)\n",
    "            else:\n",
    "                df[col] = df[col].astype(np.float64)\n",
    "        elif str(col_type)[:3] == \"int\":\n",
    "            c_min = df[col].min()\n",
    "            c_max = df[col].max()\n",
    "            if c_min > np.iinfo(\"i1\").min and c_max < np.iinfo(\"i1\").max:\n",
    "                df[col] = df[col].astype(np.int8)\n",
    "            elif c_min > np.iinfo(\"i2\").min and c_max < np.iinfo(\"i2\").max:\n",
    "                df[col] = df[col].astype(np.int16)\n",
    "            elif c_min > np.iinfo(\"i4\").min and c_max < np.iinfo(\"i4\").max:\n",
    "                df[col] = df[col].astype(np.int32)\n",
    "            elif c_min > np.iinfo(\"i8\").min and c_max < np.iinfo(\"i8\").max:\n",
    "                df[col] = df[col].astype(np.int64)\n",
    "        elif col == \"timestamp\":\n",
    "            df[col] = pd.to_datetime(df[col])\n",
    "        elif str(col_type)[:8] != \"datetime\":\n",
    "            df[col] = df[col].astype(\"category\")\n",
    "    end_mem = df.memory_usage().sum() / 1024**2\n",
    "    print('Потребление памяти меньше на', round(start_mem - end_mem, 2), 'Мб (минус', round(100 * (start_mem - end_mem) / start_mem, 1), '%)')\n",
    "    return df"
   ]
  },
  {
   "cell_type": "code",
   "execution_count": 4,
   "metadata": {},
   "outputs": [],
   "source": [
    "buildings = pd.read_csv('http://video.ittensive.com/machine-learning/ashrae/building_metadata.csv.gz',\n",
    "                        usecols=[\"site_id\", \"building_id\"])\n",
    "weather = pd.read_csv('http://video.ittensive.com/machine-learning/ashrae/weather_test.csv.gz')\n",
    "weather = weather[weather['site_id'] == 0].drop('wind_direction',axis=1)\n",
    "results = pd.read_csv('http://video.ittensive.com/machine-learning/ashrae/test.csv.gz')\n",
    "results = results[(results['building_id'] < 50) & (results['meter'] == 0)]\n",
    "# http://video.ittensive.com/machine-learning/ashrae/weather_train.csv.gz\n",
    "energy = pd.read_csv('energy.0-20.ready.csv')\n",
    "results = pd.merge(left=results, right=buildings, how=\"left\",\n",
    "                   left_on=\"building_id\", right_on=\"building_id\")\n",
    "del buildings\n",
    "results = results.drop('meter',axis=1)\n"
   ]
  },
  {
   "cell_type": "code",
   "execution_count": 5,
   "metadata": {},
   "outputs": [
    {
     "name": "stdout",
     "output_type": "stream",
     "text": [
      "<class 'pandas.core.frame.DataFrame'>\n",
      "Int64Index: 876000 entries, 0 to 875999\n",
      "Data columns (total 4 columns):\n",
      " #   Column       Non-Null Count   Dtype \n",
      "---  ------       --------------   ----- \n",
      " 0   row_id       876000 non-null  int64 \n",
      " 1   building_id  876000 non-null  int64 \n",
      " 2   timestamp    876000 non-null  object\n",
      " 3   site_id      876000 non-null  int64 \n",
      "dtypes: int64(3), object(1)\n",
      "memory usage: 33.4+ MB\n"
     ]
    }
   ],
   "source": [
    "results.info()"
   ]
  },
  {
   "cell_type": "code",
   "execution_count": 6,
   "metadata": {},
   "outputs": [],
   "source": [
    "interpolate_columns = ['air_temperature','dew_temperature','wind_speed',\n",
    "                       'cloud_coverage','sea_level_pressure']\n",
    "for col in interpolate_columns:\n",
    "    weather[col] = weather[col].interpolate(limit_direction='both',kind='cubic')\n",
    "weather['air_temperature_diff1'] = weather['air_temperature'].diff()\n",
    "weather.at[0,'air_temperature_diff1'] = weather.at[1,'air_temperature_diff1']\n",
    "weather['air_temperature_diff2'] = weather['air_temperature_diff1'].diff()\n",
    "weather.at[0,'air_temperature_diff2'] = weather.at[1,'air_temperature_diff2']"
   ]
  },
  {
   "cell_type": "code",
   "execution_count": 7,
   "metadata": {},
   "outputs": [
    {
     "name": "stdout",
     "output_type": "stream",
     "text": [
      "Потребление памяти меньше на 49.29 Мб (минус 67.0 %)\n"
     ]
    }
   ],
   "source": [
    "results = results.set_index(['site_id','timestamp'])\n",
    "weather = weather.set_index(['site_id','timestamp'])\n",
    "results = pd.merge(left=results,right=weather,how='left',left_index=True,right_index=True)\n",
    "results.reset_index(inplace=True)\n",
    "results = results.drop(['site_id'],axis=1)\n",
    "results = reduce_mem_usage(results)"
   ]
  },
  {
   "cell_type": "markdown",
   "metadata": {},
   "source": [
    "### results.info()"
   ]
  },
  {
   "cell_type": "code",
   "execution_count": 12,
   "metadata": {},
   "outputs": [],
   "source": [
    "results['hour'] = results['timestamp'].dt.hour.astype('int8')\n",
    "results['weekday'] = results['timestamp'].dt.weekday.astype('int8')\n",
    "results['week'] = results['timestamp'].dt.week.astype('int8')\n",
    "results['month'] = results['timestamp'].dt.month.astype('int8')\n",
    "results['date'] = pd.to_datetime(results['timestamp'].dt.date)\n",
    "\n",
    "\n",
    "dates_range = pd.date_range(start='2015-12-31',end='2017-01-01')\n",
    "us_holidays = calendar().holidays(start=dates_range.min(),end=dates_range.max())\n",
    "results['is_holiday'] = results['date'].isin(us_holidays).astype('int8')\n",
    "for weekday in range(0,7):\n",
    "    results['is_wday' + str(weekday)] = results['weekday'].isin([weekday]).astype('int8')\n",
    "for week in range(1,54):\n",
    "    results['is_w' + str(week)] = results['week'].isin([week]).astype('int8')\n",
    "for month in range(1,13):\n",
    "    results['is_m' + str(month)] = results['month'].isin([month]).astype('int8')"
   ]
  },
  {
   "cell_type": "code",
   "execution_count": 13,
   "metadata": {},
   "outputs": [
    {
     "name": "stdout",
     "output_type": "stream",
     "text": [
      "<class 'pandas.core.frame.DataFrame'>\n",
      "RangeIndex: 175680 entries, 0 to 175679\n",
      "Data columns (total 92 columns):\n",
      " #   Column                 Non-Null Count   Dtype  \n",
      "---  ------                 --------------   -----  \n",
      " 0   timestamp              175680 non-null  object \n",
      " 1   building_id            175680 non-null  int64  \n",
      " 2   meter_reading          175680 non-null  float64\n",
      " 3   primary_use            175680 non-null  object \n",
      " 4   air_temperature        175680 non-null  float64\n",
      " 5   cloud_coverage         175680 non-null  float64\n",
      " 6   dew_temperature        175680 non-null  float64\n",
      " 7   precip_depth_1_hr      175680 non-null  float64\n",
      " 8   sea_level_pressure     175680 non-null  float64\n",
      " 9   wind_direction         175680 non-null  float64\n",
      " 10  wind_speed             175680 non-null  float64\n",
      " 11  air_temperature_diff1  175680 non-null  float64\n",
      " 12  air_temperature_diff2  175680 non-null  float64\n",
      " 13  hour                   175680 non-null  int64  \n",
      " 14  weekday                175680 non-null  int64  \n",
      " 15  week                   175680 non-null  int64  \n",
      " 16  month                  175680 non-null  int64  \n",
      " 17  date                   175680 non-null  object \n",
      " 18  is_holiday             175680 non-null  int64  \n",
      " 19  is_wday0               175680 non-null  int64  \n",
      " 20  is_wday1               175680 non-null  int64  \n",
      " 21  is_wday2               175680 non-null  int64  \n",
      " 22  is_wday3               175680 non-null  int64  \n",
      " 23  is_wday4               175680 non-null  int64  \n",
      " 24  is_wday5               175680 non-null  int64  \n",
      " 25  is_wday6               175680 non-null  int64  \n",
      " 26  is_w1                  175680 non-null  int64  \n",
      " 27  is_w2                  175680 non-null  int64  \n",
      " 28  is_w3                  175680 non-null  int64  \n",
      " 29  is_w4                  175680 non-null  int64  \n",
      " 30  is_w5                  175680 non-null  int64  \n",
      " 31  is_w6                  175680 non-null  int64  \n",
      " 32  is_w7                  175680 non-null  int64  \n",
      " 33  is_w8                  175680 non-null  int64  \n",
      " 34  is_w9                  175680 non-null  int64  \n",
      " 35  is_w10                 175680 non-null  int64  \n",
      " 36  is_w11                 175680 non-null  int64  \n",
      " 37  is_w12                 175680 non-null  int64  \n",
      " 38  is_w13                 175680 non-null  int64  \n",
      " 39  is_w14                 175680 non-null  int64  \n",
      " 40  is_w15                 175680 non-null  int64  \n",
      " 41  is_w16                 175680 non-null  int64  \n",
      " 42  is_w17                 175680 non-null  int64  \n",
      " 43  is_w18                 175680 non-null  int64  \n",
      " 44  is_w19                 175680 non-null  int64  \n",
      " 45  is_w20                 175680 non-null  int64  \n",
      " 46  is_w21                 175680 non-null  int64  \n",
      " 47  is_w22                 175680 non-null  int64  \n",
      " 48  is_w23                 175680 non-null  int64  \n",
      " 49  is_w24                 175680 non-null  int64  \n",
      " 50  is_w25                 175680 non-null  int64  \n",
      " 51  is_w26                 175680 non-null  int64  \n",
      " 52  is_w27                 175680 non-null  int64  \n",
      " 53  is_w28                 175680 non-null  int64  \n",
      " 54  is_w29                 175680 non-null  int64  \n",
      " 55  is_w30                 175680 non-null  int64  \n",
      " 56  is_w31                 175680 non-null  int64  \n",
      " 57  is_w32                 175680 non-null  int64  \n",
      " 58  is_w33                 175680 non-null  int64  \n",
      " 59  is_w34                 175680 non-null  int64  \n",
      " 60  is_w35                 175680 non-null  int64  \n",
      " 61  is_w36                 175680 non-null  int64  \n",
      " 62  is_w37                 175680 non-null  int64  \n",
      " 63  is_w38                 175680 non-null  int64  \n",
      " 64  is_w39                 175680 non-null  int64  \n",
      " 65  is_w40                 175680 non-null  int64  \n",
      " 66  is_w41                 175680 non-null  int64  \n",
      " 67  is_w42                 175680 non-null  int64  \n",
      " 68  is_w43                 175680 non-null  int64  \n",
      " 69  is_w44                 175680 non-null  int64  \n",
      " 70  is_w45                 175680 non-null  int64  \n",
      " 71  is_w46                 175680 non-null  int64  \n",
      " 72  is_w47                 175680 non-null  int64  \n",
      " 73  is_w48                 175680 non-null  int64  \n",
      " 74  is_w49                 175680 non-null  int64  \n",
      " 75  is_w50                 175680 non-null  int64  \n",
      " 76  is_w51                 175680 non-null  int64  \n",
      " 77  is_w52                 175680 non-null  int64  \n",
      " 78  is_w53                 175680 non-null  int64  \n",
      " 79  is_m1                  175680 non-null  int64  \n",
      " 80  is_m2                  175680 non-null  int64  \n",
      " 81  is_m3                  175680 non-null  int64  \n",
      " 82  is_m4                  175680 non-null  int64  \n",
      " 83  is_m5                  175680 non-null  int64  \n",
      " 84  is_m6                  175680 non-null  int64  \n",
      " 85  is_m7                  175680 non-null  int64  \n",
      " 86  is_m8                  175680 non-null  int64  \n",
      " 87  is_m9                  175680 non-null  int64  \n",
      " 88  is_m10                 175680 non-null  int64  \n",
      " 89  is_m11                 175680 non-null  int64  \n",
      " 90  is_m12                 175680 non-null  int64  \n",
      " 91  meter_reading_log      175680 non-null  float64\n",
      "dtypes: float64(11), int64(78), object(3)\n",
      "memory usage: 123.3+ MB\n"
     ]
    }
   ],
   "source": [
    "energy.info()"
   ]
  },
  {
   "cell_type": "code",
   "execution_count": 30,
   "metadata": {},
   "outputs": [],
   "source": [
    "lr_weather_columns = ['meter_reading_log','hour','building_id','air_temperature','dew_temperature',\n",
    "                     'sea_level_pressure','wind_speed','air_temperature_diff1','air_temperature_diff2','cloud_coverage']\n",
    "\n",
    "lr_days_columns = ['meter_reading_log','hour','building_id','is_holiday']\n",
    "for wday in range(0,7):\n",
    "    lr_days_columns.append('is_wday' + str(wday))\n",
    "for week in range(1,54):\n",
    "    lr_days_columns.append('is_w' + str(week))\n",
    "for month in range(1,13):\n",
    "    lr_days_columns.append('is_m' + str(month))\n"
   ]
  },
  {
   "cell_type": "code",
   "execution_count": 31,
   "metadata": {},
   "outputs": [],
   "source": [
    "from sklearn.model_selection import train_test_split\n",
    "energy_train,energy_test = train_test_split(energy[energy['meter_reading'] > 0], test_size=0.2) #80/20"
   ]
  },
  {
   "cell_type": "code",
   "execution_count": 32,
   "metadata": {},
   "outputs": [],
   "source": [
    "hours = range(0,24)\n",
    "buildings = range(0,energy['building_id'].max() + 1)\n",
    "energy_train_weather = pd.DataFrame(energy_train,columns=lr_weather_columns)"
   ]
  },
  {
   "cell_type": "code",
   "execution_count": 33,
   "metadata": {},
   "outputs": [],
   "source": [
    "def calculate_model(x,df_lr,lr_columns):\n",
    "    lr = -1\n",
    "    model = df_lr[x.building_id][x.hour]\n",
    "    if len(model) > 0:\n",
    "        lr = np.sum([x[c] * model[i] for i,c in enumerate(lr_columns[3:])])\n",
    "        lr += model[len(lr_columns) - 3]\n",
    "        lr = np.exp(lr)\n",
    "    if lr < 0 or lr * lr == lr:\n",
    "        lr = 0\n",
    "    x['meter_reading_lr_q'] = (np.log(x.meter_reading + 1) - np.log(1 + lr)) ** 2\n",
    "    return x"
   ]
  },
  {
   "cell_type": "code",
   "execution_count": 34,
   "metadata": {},
   "outputs": [],
   "source": [
    "def train_model(df,columns):\n",
    "    df_train_lr = pd.DataFrame(df,columns=columns)\n",
    "    df_lr = [[]] * len(buildings)\n",
    "    for building in buildings:\n",
    "        df_lr[building] = [[]] * len(hours)\n",
    "        df_train_b = df_train_lr[df_train_lr['building_id'] == building]\n",
    "        for hour in hours:\n",
    "            df_train_bh = df_train_b[df_train_b['hour'] == hour]\n",
    "            y = df_train_bh['meter_reading_log']\n",
    "            x = df_train_bh.drop(['meter_reading_log','hour','building_id'],axis=1)\n",
    "            model = LinearRegression(fit_intercept=False).fit(x,y)\n",
    "            df_lr[building][hour] = model.coef_\n",
    "            df_lr[building][hour] = np.append(df_lr[building][hour],model.intercept_)\n",
    "    return df_lr\n",
    "def calculate_weights_model(df_test,df_train,lr_columns):\n",
    "    df_test = df_test.apply(calculate_model,axis=1,result_type='expand',\n",
    "                           df_lr=train_model(df_train,lr_columns),\n",
    "                           lr_columns=lr_columns)\n",
    "    return pd.Series(df_test.groupby(['hour','building_id']).sum()['meter_reading_lr_q'])\n",
    "def calculate_weights():\n",
    "    df_train,df_test = train_test_split(energy[energy['meter_reading'] > 0],test_size=0.2)\n",
    "    return (calculate_weights_model(df_test,df_train,lr_weather_columns),\n",
    "           calculate_weights_model(df_test,df_train,lr_days_columns))"
   ]
  },
  {
   "cell_type": "code",
   "execution_count": 35,
   "metadata": {},
   "outputs": [
    {
     "name": "stdout",
     "output_type": "stream",
     "text": [
      "0\n"
     ]
    },
    {
     "name": "stderr",
     "output_type": "stream",
     "text": [
      "<ipython-input-33-f7b5083fc8a3>:7: RuntimeWarning: overflow encountered in exp\n",
      "  lr = np.exp(lr)\n"
     ]
    },
    {
     "name": "stdout",
     "output_type": "stream",
     "text": [
      "1\n"
     ]
    },
    {
     "name": "stderr",
     "output_type": "stream",
     "text": [
      "<ipython-input-33-f7b5083fc8a3>:7: RuntimeWarning: overflow encountered in exp\n",
      "  lr = np.exp(lr)\n"
     ]
    },
    {
     "name": "stdout",
     "output_type": "stream",
     "text": [
      "2\n"
     ]
    },
    {
     "name": "stderr",
     "output_type": "stream",
     "text": [
      "<ipython-input-33-f7b5083fc8a3>:7: RuntimeWarning: overflow encountered in exp\n",
      "  lr = np.exp(lr)\n"
     ]
    },
    {
     "name": "stdout",
     "output_type": "stream",
     "text": [
      "3\n"
     ]
    },
    {
     "name": "stderr",
     "output_type": "stream",
     "text": [
      "<ipython-input-33-f7b5083fc8a3>:7: RuntimeWarning: overflow encountered in exp\n",
      "  lr = np.exp(lr)\n"
     ]
    },
    {
     "name": "stdout",
     "output_type": "stream",
     "text": [
      "4\n"
     ]
    },
    {
     "name": "stderr",
     "output_type": "stream",
     "text": [
      "<ipython-input-33-f7b5083fc8a3>:7: RuntimeWarning: overflow encountered in exp\n",
      "  lr = np.exp(lr)\n"
     ]
    },
    {
     "name": "stdout",
     "output_type": "stream",
     "text": [
      "5\n"
     ]
    },
    {
     "name": "stderr",
     "output_type": "stream",
     "text": [
      "<ipython-input-33-f7b5083fc8a3>:7: RuntimeWarning: overflow encountered in exp\n",
      "  lr = np.exp(lr)\n"
     ]
    },
    {
     "name": "stdout",
     "output_type": "stream",
     "text": [
      "6\n"
     ]
    },
    {
     "name": "stderr",
     "output_type": "stream",
     "text": [
      "<ipython-input-33-f7b5083fc8a3>:7: RuntimeWarning: overflow encountered in exp\n",
      "  lr = np.exp(lr)\n"
     ]
    },
    {
     "name": "stdout",
     "output_type": "stream",
     "text": [
      "7\n"
     ]
    },
    {
     "name": "stderr",
     "output_type": "stream",
     "text": [
      "<ipython-input-33-f7b5083fc8a3>:7: RuntimeWarning: overflow encountered in exp\n",
      "  lr = np.exp(lr)\n"
     ]
    },
    {
     "name": "stdout",
     "output_type": "stream",
     "text": [
      "8\n"
     ]
    },
    {
     "name": "stderr",
     "output_type": "stream",
     "text": [
      "<ipython-input-33-f7b5083fc8a3>:7: RuntimeWarning: overflow encountered in exp\n",
      "  lr = np.exp(lr)\n"
     ]
    },
    {
     "name": "stdout",
     "output_type": "stream",
     "text": [
      "9\n"
     ]
    },
    {
     "name": "stderr",
     "output_type": "stream",
     "text": [
      "<ipython-input-33-f7b5083fc8a3>:7: RuntimeWarning: overflow encountered in exp\n",
      "  lr = np.exp(lr)\n"
     ]
    },
    {
     "name": "stdout",
     "output_type": "stream",
     "text": [
      "[[0, 0, 0, 0, 0, 0, 0, 0, 0, 0, 0, 0, 0, 0, 0, 0, 0, 0, 0, 0, 0, 0, 0, 0], [0, 0, 0, 0, 0, 0, 0, 0, 0, 0, 0, 0, 0, 0, 0, 0, 0, 0, 0, 0, 0, 0, 0, 0], [1, 0, 1, 1, 0, 0, 0, 0, 0, 0, 0, 0, 0, 0, 0, 0, 0, 0, 0, 0, 0, 0, 1, 1], [0, 0, 0, 0, 0, 0, 0, 0, 0, 0, 0, 0, 0, 0, 0, 0, 0, 0, 0, 0, 0, 0, 0, 0], [0, 0, 0, 0, 0, 0, 0, 0, 0, 0, 0, 0, 0, 0, 0, 0, 0, 0, 0, 0, 0, 0, 0, 0], [0, 0, 0, 0, 0, 0, 0, 0, 0, 0, 0, 0, 0, 0, 0, 0, 0, 0, 0, 0, 0, 0, 0, 0], [0, 0, 0, 0, 0, 0, 0, 0, 0, 0, 0, 0, 0, 0, 0, 0, 0, 0, 0, 0, 0, 0, 0, 0], [0, 0, 0, 0, 0, 0, 0, 0, 0, 0, 0, 0, 0, 0, 0, 0, 0, 0, 0, 0, 0, 0, 0, 0], [0, 0, 0, 0, 0, 0, 0, 0, 0, 0, 0, 0, 0, 0, 0, 0, 0, 0, 0, 0, 0, 0, 0, 0], [0, 0, 0, 1, 0, 0, 0, 0, 0, 0, 0, 0, 0, 0, 0, 0, 0, 0, 0, 0, 0, 0, 0, 1], [0, 0, 0, 0, 0, 0, 0, 0, 0, 0, 0, 0, 0, 0, 0, 0, 0, 0, 0, 0, 0, 0, 0, 0], [0, 0, 0, 0, 0, 0, 0, 0, 0, 0, 0, 0, 0, 1, 0, 0, 0, 0, 0, 0, 0, 0, 0, 0], [0, 0, 0, 0, 0, 0, 0, 0, 0, 0, 0, 0, 0, 0, 0, 0, 0, 0, 0, 0, 0, 0, 0, 0], [0, 0, 0, 0, 0, 0, 0, 0, 0, 0, 0, 0, 0, 0, 0, 0, 0, 0, 0, 0, 0, 0, 0, 0], [0, 0, 1, 0, 0, 0, 0, 0, 0, 0, 0, 0, 0, 0, 0, 0, 1, 0, 0, 0, 0, 0, 0, 0], [0, 0, 0, 0, 0, 0, 0, 0, 0, 0, 0, 0, 0, 0, 0, 0, 0, 0, 0, 0, 0, 0, 0, 1], [0, 0, 0, 0, 0, 0, 0, 0, 0, 0, 0, 0, 0, 0, 0, 0, 0, 0, 0, 0, 0, 0, 0, 0], [0, 0, 0, 0, 0, 0, 0, 0, 0, 0, 0, 0, 0, 0, 0, 0, 0, 0, 1, 0, 0, 0, 0, 0], [0, 0, 0, 0, 0, 0, 0, 0, 0, 0, 0, 0, 0, 0, 0, 0, 0, 0, 0, 0, 0, 0, 0, 1], [0, 0, 0, 0, 0, 0, 0, 0, 0, 0, 0, 0, 0, 0, 0, 0, 0, 0, 1, 0, 0, 0, 0, 1]]\n"
     ]
    }
   ],
   "source": [
    "weights_weather = []\n",
    "weights_days = []\n",
    "for i in range(0,10):\n",
    "    print(i)\n",
    "    weights_weather_model,weights_days_model = calculate_weights()\n",
    "    if len(weights_weather) > 0:\n",
    "        weights_weather += weights_weather_model\n",
    "    else:\n",
    "        weights_weather = weights_weather_model\n",
    "    if len(weights_days) > 0:\n",
    "        weights_days += weights_days_model\n",
    "    else:\n",
    "        weights_days = weights_days_model\n",
    "        \n",
    "weights = [0] * len(buildings)\n",
    "for b in buildings:\n",
    "    \n",
    "    weights[b] = [0] * len(hours)\n",
    "    for h in hours:\n",
    "        if weights_weather.loc[h].at[b] > weights_days.loc[h].at[b]:\n",
    "            weights[b][h] = 1\n",
    "print(weights)"
   ]
  },
  {
   "cell_type": "code",
   "execution_count": 44,
   "metadata": {},
   "outputs": [
    {
     "ename": "ValueError",
     "evalue": "Input contains NaN, infinity or a value too large for dtype('float64').",
     "output_type": "error",
     "traceback": [
      "\u001b[1;31m---------------------------------------------------------------------------\u001b[0m",
      "\u001b[1;31mValueError\u001b[0m                                Traceback (most recent call last)",
      "\u001b[1;32m<ipython-input-44-d0def78a6f5f>\u001b[0m in \u001b[0;36m<module>\u001b[1;34m\u001b[0m\n\u001b[1;32m----> 1\u001b[1;33m \u001b[0menergy_lr_days\u001b[0m \u001b[1;33m=\u001b[0m \u001b[0mtrain_model\u001b[0m\u001b[1;33m(\u001b[0m\u001b[0mresults\u001b[0m\u001b[1;33m,\u001b[0m\u001b[0mlr_days_columns\u001b[0m\u001b[1;33m)\u001b[0m\u001b[1;33m\u001b[0m\u001b[1;33m\u001b[0m\u001b[0m\n\u001b[0m\u001b[0;32m      2\u001b[0m \u001b[0menergy_lr_weather\u001b[0m \u001b[1;33m=\u001b[0m \u001b[0mtrain_model\u001b[0m\u001b[1;33m(\u001b[0m\u001b[0mresults\u001b[0m\u001b[1;33m,\u001b[0m\u001b[0mlr_weather_columns\u001b[0m\u001b[1;33m)\u001b[0m\u001b[1;33m\u001b[0m\u001b[1;33m\u001b[0m\u001b[0m\n",
      "\u001b[1;32m<ipython-input-34-7ac7869b72dd>\u001b[0m in \u001b[0;36mtrain_model\u001b[1;34m(df, columns)\u001b[0m\n\u001b[0;32m      9\u001b[0m             \u001b[0my\u001b[0m \u001b[1;33m=\u001b[0m \u001b[0mdf_train_bh\u001b[0m\u001b[1;33m[\u001b[0m\u001b[1;34m'meter_reading_log'\u001b[0m\u001b[1;33m]\u001b[0m\u001b[1;33m\u001b[0m\u001b[1;33m\u001b[0m\u001b[0m\n\u001b[0;32m     10\u001b[0m             \u001b[0mx\u001b[0m \u001b[1;33m=\u001b[0m \u001b[0mdf_train_bh\u001b[0m\u001b[1;33m.\u001b[0m\u001b[0mdrop\u001b[0m\u001b[1;33m(\u001b[0m\u001b[1;33m[\u001b[0m\u001b[1;34m'meter_reading_log'\u001b[0m\u001b[1;33m,\u001b[0m\u001b[1;34m'hour'\u001b[0m\u001b[1;33m,\u001b[0m\u001b[1;34m'building_id'\u001b[0m\u001b[1;33m]\u001b[0m\u001b[1;33m,\u001b[0m\u001b[0maxis\u001b[0m\u001b[1;33m=\u001b[0m\u001b[1;36m1\u001b[0m\u001b[1;33m)\u001b[0m\u001b[1;33m\u001b[0m\u001b[1;33m\u001b[0m\u001b[0m\n\u001b[1;32m---> 11\u001b[1;33m             \u001b[0mmodel\u001b[0m \u001b[1;33m=\u001b[0m \u001b[0mLinearRegression\u001b[0m\u001b[1;33m(\u001b[0m\u001b[0mfit_intercept\u001b[0m\u001b[1;33m=\u001b[0m\u001b[1;32mFalse\u001b[0m\u001b[1;33m)\u001b[0m\u001b[1;33m.\u001b[0m\u001b[0mfit\u001b[0m\u001b[1;33m(\u001b[0m\u001b[0mx\u001b[0m\u001b[1;33m,\u001b[0m\u001b[0my\u001b[0m\u001b[1;33m)\u001b[0m\u001b[1;33m\u001b[0m\u001b[1;33m\u001b[0m\u001b[0m\n\u001b[0m\u001b[0;32m     12\u001b[0m             \u001b[0mdf_lr\u001b[0m\u001b[1;33m[\u001b[0m\u001b[0mbuilding\u001b[0m\u001b[1;33m]\u001b[0m\u001b[1;33m[\u001b[0m\u001b[0mhour\u001b[0m\u001b[1;33m]\u001b[0m \u001b[1;33m=\u001b[0m \u001b[0mmodel\u001b[0m\u001b[1;33m.\u001b[0m\u001b[0mcoef_\u001b[0m\u001b[1;33m\u001b[0m\u001b[1;33m\u001b[0m\u001b[0m\n\u001b[0;32m     13\u001b[0m             \u001b[0mdf_lr\u001b[0m\u001b[1;33m[\u001b[0m\u001b[0mbuilding\u001b[0m\u001b[1;33m]\u001b[0m\u001b[1;33m[\u001b[0m\u001b[0mhour\u001b[0m\u001b[1;33m]\u001b[0m \u001b[1;33m=\u001b[0m \u001b[0mnp\u001b[0m\u001b[1;33m.\u001b[0m\u001b[0mappend\u001b[0m\u001b[1;33m(\u001b[0m\u001b[0mdf_lr\u001b[0m\u001b[1;33m[\u001b[0m\u001b[0mbuilding\u001b[0m\u001b[1;33m]\u001b[0m\u001b[1;33m[\u001b[0m\u001b[0mhour\u001b[0m\u001b[1;33m]\u001b[0m\u001b[1;33m,\u001b[0m\u001b[0mmodel\u001b[0m\u001b[1;33m.\u001b[0m\u001b[0mintercept_\u001b[0m\u001b[1;33m)\u001b[0m\u001b[1;33m\u001b[0m\u001b[1;33m\u001b[0m\u001b[0m\n",
      "\u001b[1;32mC:\\anaconda\\lib\\site-packages\\sklearn\\linear_model\\_base.py\u001b[0m in \u001b[0;36mfit\u001b[1;34m(self, X, y, sample_weight)\u001b[0m\n\u001b[0;32m    503\u001b[0m \u001b[1;33m\u001b[0m\u001b[0m\n\u001b[0;32m    504\u001b[0m         \u001b[0mn_jobs_\u001b[0m \u001b[1;33m=\u001b[0m \u001b[0mself\u001b[0m\u001b[1;33m.\u001b[0m\u001b[0mn_jobs\u001b[0m\u001b[1;33m\u001b[0m\u001b[1;33m\u001b[0m\u001b[0m\n\u001b[1;32m--> 505\u001b[1;33m         X, y = self._validate_data(X, y, accept_sparse=['csr', 'csc', 'coo'],\n\u001b[0m\u001b[0;32m    506\u001b[0m                                    y_numeric=True, multi_output=True)\n\u001b[0;32m    507\u001b[0m \u001b[1;33m\u001b[0m\u001b[0m\n",
      "\u001b[1;32mC:\\anaconda\\lib\\site-packages\\sklearn\\base.py\u001b[0m in \u001b[0;36m_validate_data\u001b[1;34m(self, X, y, reset, validate_separately, **check_params)\u001b[0m\n\u001b[0;32m    430\u001b[0m                 \u001b[0my\u001b[0m \u001b[1;33m=\u001b[0m \u001b[0mcheck_array\u001b[0m\u001b[1;33m(\u001b[0m\u001b[0my\u001b[0m\u001b[1;33m,\u001b[0m \u001b[1;33m**\u001b[0m\u001b[0mcheck_y_params\u001b[0m\u001b[1;33m)\u001b[0m\u001b[1;33m\u001b[0m\u001b[1;33m\u001b[0m\u001b[0m\n\u001b[0;32m    431\u001b[0m             \u001b[1;32melse\u001b[0m\u001b[1;33m:\u001b[0m\u001b[1;33m\u001b[0m\u001b[1;33m\u001b[0m\u001b[0m\n\u001b[1;32m--> 432\u001b[1;33m                 \u001b[0mX\u001b[0m\u001b[1;33m,\u001b[0m \u001b[0my\u001b[0m \u001b[1;33m=\u001b[0m \u001b[0mcheck_X_y\u001b[0m\u001b[1;33m(\u001b[0m\u001b[0mX\u001b[0m\u001b[1;33m,\u001b[0m \u001b[0my\u001b[0m\u001b[1;33m,\u001b[0m \u001b[1;33m**\u001b[0m\u001b[0mcheck_params\u001b[0m\u001b[1;33m)\u001b[0m\u001b[1;33m\u001b[0m\u001b[1;33m\u001b[0m\u001b[0m\n\u001b[0m\u001b[0;32m    433\u001b[0m             \u001b[0mout\u001b[0m \u001b[1;33m=\u001b[0m \u001b[0mX\u001b[0m\u001b[1;33m,\u001b[0m \u001b[0my\u001b[0m\u001b[1;33m\u001b[0m\u001b[1;33m\u001b[0m\u001b[0m\n\u001b[0;32m    434\u001b[0m \u001b[1;33m\u001b[0m\u001b[0m\n",
      "\u001b[1;32mC:\\anaconda\\lib\\site-packages\\sklearn\\utils\\validation.py\u001b[0m in \u001b[0;36minner_f\u001b[1;34m(*args, **kwargs)\u001b[0m\n\u001b[0;32m     71\u001b[0m                           FutureWarning)\n\u001b[0;32m     72\u001b[0m         \u001b[0mkwargs\u001b[0m\u001b[1;33m.\u001b[0m\u001b[0mupdate\u001b[0m\u001b[1;33m(\u001b[0m\u001b[1;33m{\u001b[0m\u001b[0mk\u001b[0m\u001b[1;33m:\u001b[0m \u001b[0marg\u001b[0m \u001b[1;32mfor\u001b[0m \u001b[0mk\u001b[0m\u001b[1;33m,\u001b[0m \u001b[0marg\u001b[0m \u001b[1;32min\u001b[0m \u001b[0mzip\u001b[0m\u001b[1;33m(\u001b[0m\u001b[0msig\u001b[0m\u001b[1;33m.\u001b[0m\u001b[0mparameters\u001b[0m\u001b[1;33m,\u001b[0m \u001b[0margs\u001b[0m\u001b[1;33m)\u001b[0m\u001b[1;33m}\u001b[0m\u001b[1;33m)\u001b[0m\u001b[1;33m\u001b[0m\u001b[1;33m\u001b[0m\u001b[0m\n\u001b[1;32m---> 73\u001b[1;33m         \u001b[1;32mreturn\u001b[0m \u001b[0mf\u001b[0m\u001b[1;33m(\u001b[0m\u001b[1;33m**\u001b[0m\u001b[0mkwargs\u001b[0m\u001b[1;33m)\u001b[0m\u001b[1;33m\u001b[0m\u001b[1;33m\u001b[0m\u001b[0m\n\u001b[0m\u001b[0;32m     74\u001b[0m     \u001b[1;32mreturn\u001b[0m \u001b[0minner_f\u001b[0m\u001b[1;33m\u001b[0m\u001b[1;33m\u001b[0m\u001b[0m\n\u001b[0;32m     75\u001b[0m \u001b[1;33m\u001b[0m\u001b[0m\n",
      "\u001b[1;32mC:\\anaconda\\lib\\site-packages\\sklearn\\utils\\validation.py\u001b[0m in \u001b[0;36mcheck_X_y\u001b[1;34m(X, y, accept_sparse, accept_large_sparse, dtype, order, copy, force_all_finite, ensure_2d, allow_nd, multi_output, ensure_min_samples, ensure_min_features, y_numeric, estimator)\u001b[0m\n\u001b[0;32m    803\u001b[0m                     estimator=estimator)\n\u001b[0;32m    804\u001b[0m     \u001b[1;32mif\u001b[0m \u001b[0mmulti_output\u001b[0m\u001b[1;33m:\u001b[0m\u001b[1;33m\u001b[0m\u001b[1;33m\u001b[0m\u001b[0m\n\u001b[1;32m--> 805\u001b[1;33m         y = check_array(y, accept_sparse='csr', force_all_finite=True,\n\u001b[0m\u001b[0;32m    806\u001b[0m                         ensure_2d=False, dtype=None)\n\u001b[0;32m    807\u001b[0m     \u001b[1;32melse\u001b[0m\u001b[1;33m:\u001b[0m\u001b[1;33m\u001b[0m\u001b[1;33m\u001b[0m\u001b[0m\n",
      "\u001b[1;32mC:\\anaconda\\lib\\site-packages\\sklearn\\utils\\validation.py\u001b[0m in \u001b[0;36minner_f\u001b[1;34m(*args, **kwargs)\u001b[0m\n\u001b[0;32m     71\u001b[0m                           FutureWarning)\n\u001b[0;32m     72\u001b[0m         \u001b[0mkwargs\u001b[0m\u001b[1;33m.\u001b[0m\u001b[0mupdate\u001b[0m\u001b[1;33m(\u001b[0m\u001b[1;33m{\u001b[0m\u001b[0mk\u001b[0m\u001b[1;33m:\u001b[0m \u001b[0marg\u001b[0m \u001b[1;32mfor\u001b[0m \u001b[0mk\u001b[0m\u001b[1;33m,\u001b[0m \u001b[0marg\u001b[0m \u001b[1;32min\u001b[0m \u001b[0mzip\u001b[0m\u001b[1;33m(\u001b[0m\u001b[0msig\u001b[0m\u001b[1;33m.\u001b[0m\u001b[0mparameters\u001b[0m\u001b[1;33m,\u001b[0m \u001b[0margs\u001b[0m\u001b[1;33m)\u001b[0m\u001b[1;33m}\u001b[0m\u001b[1;33m)\u001b[0m\u001b[1;33m\u001b[0m\u001b[1;33m\u001b[0m\u001b[0m\n\u001b[1;32m---> 73\u001b[1;33m         \u001b[1;32mreturn\u001b[0m \u001b[0mf\u001b[0m\u001b[1;33m(\u001b[0m\u001b[1;33m**\u001b[0m\u001b[0mkwargs\u001b[0m\u001b[1;33m)\u001b[0m\u001b[1;33m\u001b[0m\u001b[1;33m\u001b[0m\u001b[0m\n\u001b[0m\u001b[0;32m     74\u001b[0m     \u001b[1;32mreturn\u001b[0m \u001b[0minner_f\u001b[0m\u001b[1;33m\u001b[0m\u001b[1;33m\u001b[0m\u001b[0m\n\u001b[0;32m     75\u001b[0m \u001b[1;33m\u001b[0m\u001b[0m\n",
      "\u001b[1;32mC:\\anaconda\\lib\\site-packages\\sklearn\\utils\\validation.py\u001b[0m in \u001b[0;36mcheck_array\u001b[1;34m(array, accept_sparse, accept_large_sparse, dtype, order, copy, force_all_finite, ensure_2d, allow_nd, ensure_min_samples, ensure_min_features, estimator)\u001b[0m\n\u001b[0;32m    643\u001b[0m \u001b[1;33m\u001b[0m\u001b[0m\n\u001b[0;32m    644\u001b[0m         \u001b[1;32mif\u001b[0m \u001b[0mforce_all_finite\u001b[0m\u001b[1;33m:\u001b[0m\u001b[1;33m\u001b[0m\u001b[1;33m\u001b[0m\u001b[0m\n\u001b[1;32m--> 645\u001b[1;33m             _assert_all_finite(array,\n\u001b[0m\u001b[0;32m    646\u001b[0m                                allow_nan=force_all_finite == 'allow-nan')\n\u001b[0;32m    647\u001b[0m \u001b[1;33m\u001b[0m\u001b[0m\n",
      "\u001b[1;32mC:\\anaconda\\lib\\site-packages\\sklearn\\utils\\validation.py\u001b[0m in \u001b[0;36m_assert_all_finite\u001b[1;34m(X, allow_nan, msg_dtype)\u001b[0m\n\u001b[0;32m     95\u001b[0m                 not allow_nan and not np.isfinite(X).all()):\n\u001b[0;32m     96\u001b[0m             \u001b[0mtype_err\u001b[0m \u001b[1;33m=\u001b[0m \u001b[1;34m'infinity'\u001b[0m \u001b[1;32mif\u001b[0m \u001b[0mallow_nan\u001b[0m \u001b[1;32melse\u001b[0m \u001b[1;34m'NaN, infinity'\u001b[0m\u001b[1;33m\u001b[0m\u001b[1;33m\u001b[0m\u001b[0m\n\u001b[1;32m---> 97\u001b[1;33m             raise ValueError(\n\u001b[0m\u001b[0;32m     98\u001b[0m                     \u001b[0mmsg_err\u001b[0m\u001b[1;33m.\u001b[0m\u001b[0mformat\u001b[0m\u001b[1;33m\u001b[0m\u001b[1;33m\u001b[0m\u001b[0m\n\u001b[0;32m     99\u001b[0m                     (type_err,\n",
      "\u001b[1;31mValueError\u001b[0m: Input contains NaN, infinity or a value too large for dtype('float64')."
     ]
    }
   ],
   "source": [
    "energy_lr_days = train_model(results,lr_days_columns)\n",
    "energy_lr_weather = train_model(results,lr_weather_columns)"
   ]
  },
  {
   "cell_type": "code",
   "execution_count": 41,
   "metadata": {},
   "outputs": [],
   "source": [
    "def calculate_model_ensemble(x,model,columns):\n",
    "    lr = -1\n",
    "    if len(model) > 0:\n",
    "        lr = np.sum([x[c] * model[i] for i,c in enumerate(columns[3:])])\n",
    "        lr += model[len(columns) - 3]\n",
    "        lr = np.exp(lr)\n",
    "    if lr < 0 or lr*lr == lr:\n",
    "        lr = 0\n",
    "    return lr\n",
    "def calculate_models_ensemble(x):\n",
    "    lr_d = calculate_model_ensemble(x,energy_lr_days[x.building_id][x.hour],lr_days_columns)\n",
    "    lr_w = calculate_model_ensemble(x,energy_lr_days[x.building_id][x.hour],lr_weather_columns)\n",
    "    if weights[x.building_id][x.hour] == 1:\n",
    "        lr = lr_d\n",
    "    else:\n",
    "        lr = lr_w\n",
    "    lr_sum = (lr_w + lr_d) / 2\n",
    "    x['meter_reading_lr_q'] = (np.log(x.meter_reading + 1) + np.log(1 + lr)) ** 2\n",
    "    x['meter_reading_sum_q'] = (np.log(x.meter_reading + 1) + np.log(1 + lr_sum)) ** 2\n",
    "    return x"
   ]
  },
  {
   "cell_type": "code",
   "execution_count": 42,
   "metadata": {},
   "outputs": [
    {
     "name": "stderr",
     "output_type": "stream",
     "text": [
      "<ipython-input-41-4359104e00f0>:6: RuntimeWarning: overflow encountered in exp\n",
      "  lr = np.exp(lr)\n"
     ]
    },
    {
     "name": "stdout",
     "output_type": "stream",
     "text": [
      "5.939713387799614\n",
      "10.782511484107346\n"
     ]
    }
   ],
   "source": [
    "energy_test = energy_test.apply(calculate_models_ensemble,axis=1,result_type='expand')\n",
    "\n",
    "print(np.sqrt(energy_test['meter_reading_lr_q'].sum() / len(energy_test)))\n",
    "print(np.sqrt(energy_test['meter_reading_sum_q'].sum() / len(energy_test)))"
   ]
  },
  {
   "cell_type": "code",
   "execution_count": 43,
   "metadata": {},
   "outputs": [
    {
     "name": "stdout",
     "output_type": "stream",
     "text": [
      "21715\n"
     ]
    }
   ],
   "source": [
    "print(len(energy_test[energy_test['meter_reading'] > 0]))"
   ]
  },
  {
   "cell_type": "code",
   "execution_count": 45,
   "metadata": {},
   "outputs": [
    {
     "name": "stdout",
     "output_type": "stream",
     "text": [
      "<class 'pandas.core.frame.DataFrame'>\n",
      "RangeIndex: 876000 entries, 0 to 875999\n",
      "Data columns (total 89 columns):\n",
      " #   Column                 Non-Null Count   Dtype         \n",
      "---  ------                 --------------   -----         \n",
      " 0   timestamp              876000 non-null  datetime64[ns]\n",
      " 1   row_id                 876000 non-null  int32         \n",
      " 2   building_id            876000 non-null  int8          \n",
      " 3   air_temperature        876000 non-null  float16       \n",
      " 4   cloud_coverage         876000 non-null  float16       \n",
      " 5   dew_temperature        876000 non-null  float16       \n",
      " 6   precip_depth_1_hr      874500 non-null  float16       \n",
      " 7   sea_level_pressure     876000 non-null  float16       \n",
      " 8   wind_speed             876000 non-null  float16       \n",
      " 9   air_temperature_diff1  876000 non-null  float16       \n",
      " 10  air_temperature_diff2  876000 non-null  float16       \n",
      " 11  hour                   876000 non-null  int8          \n",
      " 12  weekday                876000 non-null  int8          \n",
      " 13  week                   876000 non-null  int8          \n",
      " 14  month                  876000 non-null  int8          \n",
      " 15  date                   876000 non-null  datetime64[ns]\n",
      " 16  is_holiday             876000 non-null  int8          \n",
      " 17  is_wday0               876000 non-null  int8          \n",
      " 18  is_wday1               876000 non-null  int8          \n",
      " 19  is_wday2               876000 non-null  int8          \n",
      " 20  is_wday3               876000 non-null  int8          \n",
      " 21  is_wday4               876000 non-null  int8          \n",
      " 22  is_wday5               876000 non-null  int8          \n",
      " 23  is_wday6               876000 non-null  int8          \n",
      " 24  is_w1                  876000 non-null  int8          \n",
      " 25  is_w2                  876000 non-null  int8          \n",
      " 26  is_w3                  876000 non-null  int8          \n",
      " 27  is_w4                  876000 non-null  int8          \n",
      " 28  is_w5                  876000 non-null  int8          \n",
      " 29  is_w6                  876000 non-null  int8          \n",
      " 30  is_w7                  876000 non-null  int8          \n",
      " 31  is_w8                  876000 non-null  int8          \n",
      " 32  is_w9                  876000 non-null  int8          \n",
      " 33  is_w10                 876000 non-null  int8          \n",
      " 34  is_w11                 876000 non-null  int8          \n",
      " 35  is_w12                 876000 non-null  int8          \n",
      " 36  is_w13                 876000 non-null  int8          \n",
      " 37  is_w14                 876000 non-null  int8          \n",
      " 38  is_w15                 876000 non-null  int8          \n",
      " 39  is_w16                 876000 non-null  int8          \n",
      " 40  is_w17                 876000 non-null  int8          \n",
      " 41  is_w18                 876000 non-null  int8          \n",
      " 42  is_w19                 876000 non-null  int8          \n",
      " 43  is_w20                 876000 non-null  int8          \n",
      " 44  is_w21                 876000 non-null  int8          \n",
      " 45  is_w22                 876000 non-null  int8          \n",
      " 46  is_w23                 876000 non-null  int8          \n",
      " 47  is_w24                 876000 non-null  int8          \n",
      " 48  is_w25                 876000 non-null  int8          \n",
      " 49  is_w26                 876000 non-null  int8          \n",
      " 50  is_w27                 876000 non-null  int8          \n",
      " 51  is_w28                 876000 non-null  int8          \n",
      " 52  is_w29                 876000 non-null  int8          \n",
      " 53  is_w30                 876000 non-null  int8          \n",
      " 54  is_w31                 876000 non-null  int8          \n",
      " 55  is_w32                 876000 non-null  int8          \n",
      " 56  is_w33                 876000 non-null  int8          \n",
      " 57  is_w34                 876000 non-null  int8          \n",
      " 58  is_w35                 876000 non-null  int8          \n",
      " 59  is_w36                 876000 non-null  int8          \n",
      " 60  is_w37                 876000 non-null  int8          \n",
      " 61  is_w38                 876000 non-null  int8          \n",
      " 62  is_w39                 876000 non-null  int8          \n",
      " 63  is_w40                 876000 non-null  int8          \n",
      " 64  is_w41                 876000 non-null  int8          \n",
      " 65  is_w42                 876000 non-null  int8          \n",
      " 66  is_w43                 876000 non-null  int8          \n",
      " 67  is_w44                 876000 non-null  int8          \n",
      " 68  is_w45                 876000 non-null  int8          \n",
      " 69  is_w46                 876000 non-null  int8          \n",
      " 70  is_w47                 876000 non-null  int8          \n",
      " 71  is_w48                 876000 non-null  int8          \n",
      " 72  is_w49                 876000 non-null  int8          \n",
      " 73  is_w50                 876000 non-null  int8          \n",
      " 74  is_w51                 876000 non-null  int8          \n",
      " 75  is_w52                 876000 non-null  int8          \n",
      " 76  is_w53                 876000 non-null  int8          \n",
      " 77  is_m1                  876000 non-null  int8          \n",
      " 78  is_m2                  876000 non-null  int8          \n",
      " 79  is_m3                  876000 non-null  int8          \n",
      " 80  is_m4                  876000 non-null  int8          \n",
      " 81  is_m5                  876000 non-null  int8          \n",
      " 82  is_m6                  876000 non-null  int8          \n",
      " 83  is_m7                  876000 non-null  int8          \n",
      " 84  is_m8                  876000 non-null  int8          \n",
      " 85  is_m9                  876000 non-null  int8          \n",
      " 86  is_m10                 876000 non-null  int8          \n",
      " 87  is_m11                 876000 non-null  int8          \n",
      " 88  is_m12                 876000 non-null  int8          \n",
      "dtypes: datetime64[ns](2), float16(8), int32(1), int8(78)\n",
      "memory usage: 95.2 MB\n"
     ]
    }
   ],
   "source": [
    "results.info()"
   ]
  },
  {
   "cell_type": "code",
   "execution_count": null,
   "metadata": {},
   "outputs": [],
   "source": []
  }
 ],
 "metadata": {
  "kernelspec": {
   "display_name": "Python 3",
   "language": "python",
   "name": "python3"
  },
  "language_info": {
   "codemirror_mode": {
    "name": "ipython",
    "version": 3
   },
   "file_extension": ".py",
   "mimetype": "text/x-python",
   "name": "python",
   "nbconvert_exporter": "python",
   "pygments_lexer": "ipython3",
   "version": "3.8.3"
  }
 },
 "nbformat": 4,
 "nbformat_minor": 4
}
