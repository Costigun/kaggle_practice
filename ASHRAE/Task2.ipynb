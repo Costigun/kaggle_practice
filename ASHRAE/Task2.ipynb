{
 "cells": [
  {
   "cell_type": "code",
   "execution_count": 66,
   "metadata": {},
   "outputs": [],
   "source": [
    "import pandas as pd\n",
    "import numpy as np\n",
    "from scipy.interpolate import interp1d\n",
    "import matplotlib.pyplot as plt\n",
    "from matplotlib.pyplot import rcParams\n",
    "import seaborn as sns"
   ]
  },
  {
   "cell_type": "code",
   "execution_count": 67,
   "metadata": {},
   "outputs": [],
   "source": [
    "buildings = pd.read_csv(\"http://video.ittensive.com/machine-learning/ashrae/building_metadata.csv.gz\")\n",
    "weather = pd.read_csv(\"http://video.ittensive.com/machine-learning/ashrae/weather_train.csv.gz\")\n",
    "energy = pd.read_csv(\"http://video.ittensive.com/machine-learning/ashrae/train.0.csv.gz\")"
   ]
  },
  {
   "cell_type": "code",
   "execution_count": 68,
   "metadata": {},
   "outputs": [],
   "source": [
    "def reduce_mem_usage (df):\n",
    "    start_mem = df.memory_usage().sum() / 1024**2    \n",
    "    for col in df.columns:\n",
    "        col_type = df[col].dtypes\n",
    "        if str(col_type)[:5] == \"float\":\n",
    "            c_min = df[col].min()\n",
    "            c_max = df[col].max()\n",
    "            if c_min > np.finfo(\"f2\").min and c_max < np.finfo(\"f2\").max:\n",
    "                df[col] = df[col].astype(np.float16)\n",
    "            elif c_min > np.finfo(\"f4\").min and c_max < np.finfo(\"f4\").max:\n",
    "                df[col] = df[col].astype(np.float32)\n",
    "            else:\n",
    "                df[col] = df[col].astype(np.float64)\n",
    "        elif str(col_type)[:3] == \"int\":\n",
    "            c_min = df[col].min()\n",
    "            c_max = df[col].max()\n",
    "            if c_min > np.iinfo(\"i1\").min and c_max < np.iinfo(\"i1\").max:\n",
    "                df[col] = df[col].astype(np.int8)\n",
    "            elif c_min > np.iinfo(\"i2\").min and c_max < np.iinfo(\"i2\").max:\n",
    "                df[col] = df[col].astype(np.int16)\n",
    "            elif c_min > np.iinfo(\"i4\").min and c_max < np.iinfo(\"i4\").max:\n",
    "                df[col] = df[col].astype(np.int32)\n",
    "            elif c_min > np.iinfo(\"i8\").min and c_max < np.iinfo(\"i8\").max:\n",
    "                df[col] = df[col].astype(np.int64)\n",
    "        elif col == \"timestamp\":\n",
    "            df[col] = pd.to_datetime(df[col])\n",
    "        elif str(col_type)[:8] != \"datetime\":\n",
    "            df[col] = df[col].astype(\"category\")\n",
    "    end_mem = df.memory_usage().sum() / 1024**2\n",
    "    print('Потребление памяти меньше на', round(start_mem - end_mem, 2), 'Мб (минус', round(100 * (start_mem - end_mem) / start_mem, 1), '%)')\n",
    "    return df\n",
    "\n",
    "def round_fillna (df, columns):\n",
    "    for col in columns:\n",
    "        type_ = \"int8\"\n",
    "        if col in [\"wind_direction\", \"year_built\", \"precip_depth_1_hr\"]:\n",
    "            type_ = \"int16\"\n",
    "        if col == \"precip_depth_1_hr\":\n",
    "            df[col] = df[col].apply(lambda x:0 if x<0 else x)\n",
    "        df[col] = np.round(df[col].fillna(value=0)).astype(type_)\n",
    "    return df"
   ]
  },
  {
   "cell_type": "code",
   "execution_count": 69,
   "metadata": {},
   "outputs": [
    {
     "name": "stdout",
     "output_type": "stream",
     "text": [
      "Потребление памяти меньше на 0.05 Мб (минус 73.8 %)\n",
      "Потребление памяти меньше на 6.53 Мб (минус 68.1 %)\n",
      "Потребление памяти меньше на 195.54 Мб (минус 53.1 %)\n"
     ]
    }
   ],
   "source": [
    "buildings = reduce_mem_usage(buildings)\n",
    "weather = reduce_mem_usage(weather)\n",
    "energy = reduce_mem_usage(energy)"
   ]
  },
  {
   "cell_type": "code",
   "execution_count": 70,
   "metadata": {},
   "outputs": [],
   "source": [
    "from pandas.tseries.holiday import USFederalHolidayCalendar as calendar"
   ]
  },
  {
   "cell_type": "code",
   "execution_count": 71,
   "metadata": {},
   "outputs": [],
   "source": [
    "from sklearn.linear_model import LinearRegression\n",
    "from sklearn.model_selection import train_test_split"
   ]
  },
  {
   "cell_type": "code",
   "execution_count": 72,
   "metadata": {},
   "outputs": [
    {
     "name": "stdout",
     "output_type": "stream",
     "text": [
      "<class 'pandas.core.frame.DataFrame'>\n",
      "RangeIndex: 12060910 entries, 0 to 12060909\n",
      "Data columns (total 13 columns):\n",
      " #   Column              Dtype         \n",
      "---  ------              -----         \n",
      " 0   timestamp           datetime64[ns]\n",
      " 1   building_id         int16         \n",
      " 2   meter_reading       float32       \n",
      " 3   primary_use         category      \n",
      " 4   square_feet         int32         \n",
      " 5   year_built          float16       \n",
      " 6   air_temperature     float16       \n",
      " 7   cloud_coverage      float16       \n",
      " 8   dew_temperature     float16       \n",
      " 9   precip_depth_1_hr   float16       \n",
      " 10  sea_level_pressure  float16       \n",
      " 11  wind_direction      float16       \n",
      " 12  wind_speed          float16       \n",
      "dtypes: category(1), datetime64[ns](1), float16(8), float32(1), int16(1), int32(1)\n",
      "memory usage: 402.6 MB\n",
      "None\n"
     ]
    }
   ],
   "source": [
    "energy = pd.merge(left=energy, right=buildings, how=\"left\",\n",
    "                   left_on=\"building_id\", right_on=\"building_id\")\n",
    "energy = energy.set_index([\"timestamp\", \"site_id\"])\n",
    "weather = weather.set_index([\"timestamp\", \"site_id\"])\n",
    "energy = pd.merge(left=energy, right=weather, how=\"left\",\n",
    "                  left_index=True, right_index=True)\n",
    "energy.reset_index(inplace=True)\n",
    "energy = energy.drop(columns=[\"meter\", \"site_id\", \"floor_count\"], axis=1)\n",
    "del buildings\n",
    "del weather\n",
    "print (energy.info())"
   ]
  },
  {
   "cell_type": "code",
   "execution_count": null,
   "metadata": {},
   "outputs": [],
   "source": []
  },
  {
   "cell_type": "code",
   "execution_count": 73,
   "metadata": {},
   "outputs": [],
   "source": [
    "interpolate_columns = [\"air_temperature\", \"dew_temperature\", \"cloud_coverage\", \"wind_speed\", \"precip_depth_1_hr\", \"sea_level_pressure\"]"
   ]
  },
  {
   "cell_type": "code",
   "execution_count": 74,
   "metadata": {},
   "outputs": [],
   "source": [
    "for col in interpolate_columns:\n",
    "    energy[col] = energy[col].interpolate(limit_direction='both',\n",
    "                            kind='cubic')"
   ]
  },
  {
   "cell_type": "code",
   "execution_count": 76,
   "metadata": {},
   "outputs": [],
   "source": [
    "regression_columns = [\"meter_reading\", \"air_temperature\",\n",
    "        \"dew_temperature\", \"cloud_coverage\", \"wind_speed\",\n",
    "        \"precip_depth_1_hr\", \"sea_level_pressure\",\"is_holiday\"]"
   ]
  },
  {
   "cell_type": "code",
   "execution_count": 77,
   "metadata": {},
   "outputs": [],
   "source": [
    "dates_range = pd.date_range(start='2015-12-31', end='2017-01-01')\n",
    "us_holidays = calendar().holidays(start=dates_range.min(),\n",
    "                                  end=dates_range.max())\n",
    "\n",
    "energy[\"dayofweek\"] = energy[\"timestamp\"].dt.dayofweek.astype(\"int8\")\n",
    "energy[\"day\"] = energy[\"timestamp\"].dt.day.astype(\"int8\")\n",
    "energy[\"dayofyear\"] = energy[\"timestamp\"].dt.dayofyear.astype(\"int16\")\n",
    "energy[\"month\"] = energy[\"timestamp\"].dt.month.astype(\"int8\")\n",
    "energy[\"week\"] = energy[\"timestamp\"].dt.week.astype(\"int8\")\n",
    "energy[\"date\"] = pd.to_datetime(energy[\"timestamp\"].dt.date)\n",
    "energy['is_holiday'] = (energy['date'].isin(us_holidays)).astype(\"int8\")"
   ]
  },
  {
   "cell_type": "code",
   "execution_count": 81,
   "metadata": {},
   "outputs": [
    {
     "data": {
      "text/plain": [
       "0"
      ]
     },
     "execution_count": 81,
     "metadata": {},
     "output_type": "execute_result"
    }
   ],
   "source": [
    "energy['building_id'].min()"
   ]
  },
  {
   "cell_type": "code",
   "execution_count": 82,
   "metadata": {},
   "outputs": [],
   "source": [
    "energy = energy[energy['building_id'] < 21]"
   ]
  },
  {
   "cell_type": "code",
   "execution_count": 83,
   "metadata": {},
   "outputs": [],
   "source": [
    "energy_train = energy[regression_columns]"
   ]
  },
  {
   "cell_type": "code",
   "execution_count": 84,
   "metadata": {},
   "outputs": [
    {
     "data": {
      "text/plain": [
       "meter_reading         0\n",
       "air_temperature       0\n",
       "dew_temperature       0\n",
       "cloud_coverage        0\n",
       "wind_speed            0\n",
       "precip_depth_1_hr     0\n",
       "sea_level_pressure    0\n",
       "is_holiday            0\n",
       "dtype: int64"
      ]
     },
     "execution_count": 84,
     "metadata": {},
     "output_type": "execute_result"
    }
   ],
   "source": [
    "energy_train.isnull().sum()"
   ]
  },
  {
   "cell_type": "code",
   "execution_count": 85,
   "metadata": {},
   "outputs": [],
   "source": [
    "X_train,X_test = train_test_split(energy_train,test_size=0.2)"
   ]
  },
  {
   "cell_type": "code",
   "execution_count": 86,
   "metadata": {},
   "outputs": [],
   "source": [
    "X = X_train.drop('meter_reading',axis=1)"
   ]
  },
  {
   "cell_type": "code",
   "execution_count": 87,
   "metadata": {},
   "outputs": [],
   "source": [
    "y = X_train['meter_reading']"
   ]
  },
  {
   "cell_type": "code",
   "execution_count": 88,
   "metadata": {},
   "outputs": [],
   "source": [
    "model = LinearRegression()"
   ]
  },
  {
   "cell_type": "code",
   "execution_count": 89,
   "metadata": {},
   "outputs": [
    {
     "data": {
      "text/plain": [
       "LinearRegression()"
      ]
     },
     "execution_count": 89,
     "metadata": {},
     "output_type": "execute_result"
    }
   ],
   "source": [
    "model.fit(X,y)"
   ]
  },
  {
   "cell_type": "code",
   "execution_count": 90,
   "metadata": {},
   "outputs": [
    {
     "data": {
      "text/plain": [
       "(array([ 8.335905  , 17.669596  , -4.3035636 , -4.0379324 , -0.14847988,\n",
       "        11.589966  , 22.177511  ], dtype=float32),\n",
       " -11935.577)"
      ]
     },
     "execution_count": 90,
     "metadata": {},
     "output_type": "execute_result"
    }
   ],
   "source": [
    "model.coef_,model.intercept_"
   ]
  },
  {
   "cell_type": "code",
   "execution_count": 91,
   "metadata": {},
   "outputs": [],
   "source": [
    "from sklearn.metrics import mean_squared_log_error"
   ]
  },
  {
   "cell_type": "code",
   "execution_count": 60,
   "metadata": {},
   "outputs": [],
   "source": []
  },
  {
   "cell_type": "code",
   "execution_count": 61,
   "metadata": {},
   "outputs": [],
   "source": [
    "def calculate_model1(x):\n",
    "    lr = np.sum([x[col] * model.coef_[i] for i,col in enumerate(regression_columns[1:])])\n",
    "    lr += model.intercept_\n",
    "    \n",
    "    x['meter_reading_lr_q'] = (np.log(1 + x.meter_reading) - np.log(1 + lr)) ** 2\n",
    "    return x"
   ]
  },
  {
   "cell_type": "code",
   "execution_count": null,
   "metadata": {},
   "outputs": [],
   "source": []
  },
  {
   "cell_type": "code",
   "execution_count": 92,
   "metadata": {},
   "outputs": [
    {
     "name": "stderr",
     "output_type": "stream",
     "text": [
      "<ipython-input-92-8c60c4f988e2>:5: RuntimeWarning: invalid value encountered in log\n",
      "  np.log(1 + lr))**2\n"
     ]
    },
    {
     "name": "stdout",
     "output_type": "stream",
     "text": [
      "Качество линейной регрессии: 3.349160736941303 3.3\n"
     ]
    }
   ],
   "source": [
    "def calculate_model (x):\n",
    "    lr = np.sum([x[col] * model.coef_[i] for i,col in enumerate(regression_columns[1:])])\n",
    "    lr += model.intercept_\n",
    "    x[\"meter_reading_lr_q\"] = (np.log(1 + x.meter_reading) -\n",
    "                               np.log(1 + lr))**2\n",
    "    return x\n",
    "\n",
    "energy_test = X_test.apply(calculate_model,\n",
    "                                    axis=1, result_type=\"expand\")\n",
    "energy_test_lr_rmsle = np.sqrt(energy_test[\"meter_reading_lr_q\"].sum() / len(energy_test))\n",
    "print (\"Качество линейной регрессии:\", energy_test_lr_rmsle, round(energy_test_lr_rmsle, 1))"
   ]
  },
  {
   "cell_type": "code",
   "execution_count": null,
   "metadata": {},
   "outputs": [],
   "source": []
  }
 ],
 "metadata": {
  "kernelspec": {
   "display_name": "Python 3",
   "language": "python",
   "name": "python3"
  },
  "language_info": {
   "codemirror_mode": {
    "name": "ipython",
    "version": 3
   },
   "file_extension": ".py",
   "mimetype": "text/x-python",
   "name": "python",
   "nbconvert_exporter": "python",
   "pygments_lexer": "ipython3",
   "version": "3.8.3"
  }
 },
 "nbformat": 4,
 "nbformat_minor": 4
}
