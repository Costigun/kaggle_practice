{
  "nbformat": 4,
  "nbformat_minor": 0,
  "metadata": {
    "colab": {
      "name": "Task2_reinforcement.ipynb",
      "provenance": []
    },
    "kernelspec": {
      "name": "python3",
      "display_name": "Python 3"
    },
    "language_info": {
      "name": "python"
    }
  },
  "cells": [
    {
      "cell_type": "code",
      "metadata": {
        "id": "XoZyAdlC_d37"
      },
      "source": [
        "import pandas as pd\n",
        "import numpy as np\n",
        "import matplotlib.pyplot as plt"
      ],
      "execution_count": 1,
      "outputs": []
    },
    {
      "cell_type": "code",
      "metadata": {
        "id": "8m2iagzP_mIy"
      },
      "source": [
        "from sklearn.model_selection import train_test_split"
      ],
      "execution_count": 2,
      "outputs": []
    },
    {
      "cell_type": "code",
      "metadata": {
        "id": "eZ1i0-YT_pUG"
      },
      "source": [
        "from sklearn.linear_model import LinearRegression"
      ],
      "execution_count": 3,
      "outputs": []
    },
    {
      "cell_type": "code",
      "metadata": {
        "id": "qmsRYyMr_sI9"
      },
      "source": [
        "buildings = pd.read_csv(\"http://video.ittensive.com/machine-learning/ashrae/building_metadata.csv.gz\")\n",
        "weather = pd.read_csv(\"http://video.ittensive.com/machine-learning/ashrae/weather_train.csv.gz\")\n",
        "energy = pd.read_csv(\"http://video.ittensive.com/machine-learning/ashrae/train.0.csv.gz\")"
      ],
      "execution_count": 9,
      "outputs": []
    },
    {
      "cell_type": "code",
      "metadata": {
        "id": "2I62Y6Gj_tdr"
      },
      "source": [
        "def reduce_mem_usage (df):\n",
        "    start_mem = df.memory_usage().sum() / 1024**2    \n",
        "    for col in df.columns:\n",
        "        col_type = df[col].dtypes\n",
        "        if str(col_type)[:5] == \"float\":\n",
        "            c_min = df[col].min()\n",
        "            c_max = df[col].max()\n",
        "            if c_min > np.finfo(\"f2\").min and c_max < np.finfo(\"f2\").max:\n",
        "                df[col] = df[col].astype(np.float16)\n",
        "            elif c_min > np.finfo(\"f4\").min and c_max < np.finfo(\"f4\").max:\n",
        "                df[col] = df[col].astype(np.float32)\n",
        "            else:\n",
        "                df[col] = df[col].astype(np.float64)\n",
        "        elif str(col_type)[:3] == \"int\":\n",
        "            c_min = df[col].min()\n",
        "            c_max = df[col].max()\n",
        "            if c_min > np.iinfo(\"i1\").min and c_max < np.iinfo(\"i1\").max:\n",
        "                df[col] = df[col].astype(np.int8)\n",
        "            elif c_min > np.iinfo(\"i2\").min and c_max < np.iinfo(\"i2\").max:\n",
        "                df[col] = df[col].astype(np.int16)\n",
        "            elif c_min > np.iinfo(\"i4\").min and c_max < np.iinfo(\"i4\").max:\n",
        "                df[col] = df[col].astype(np.int32)\n",
        "            elif c_min > np.iinfo(\"i8\").min and c_max < np.iinfo(\"i8\").max:\n",
        "                df[col] = df[col].astype(np.int64)\n",
        "        elif col == \"timestamp\":\n",
        "            df[col] = pd.to_datetime(df[col])\n",
        "        elif str(col_type)[:8] != \"datetime\":\n",
        "            df[col] = df[col].astype(\"category\")\n",
        "    end_mem = df.memory_usage().sum() / 1024**2\n",
        "    print('Потребление памяти меньше на', round(start_mem - end_mem, 2), 'Мб (минус', round(100 * (start_mem - end_mem) / start_mem, 1), '%)')\n",
        "    return df\n",
        "\n",
        "def round_fillna (df, columns):\n",
        "    for col in columns:\n",
        "        type_ = \"int8\"\n",
        "        if col in [\"wind_direction\", \"year_built\", \"precip_depth_1_hr\"]:\n",
        "            type_ = \"int16\"\n",
        "        if col == \"precip_depth_1_hr\":\n",
        "            df[col] = df[col].apply(lambda x:0 if x<0 else x)\n",
        "        df[col] = np.round(df[col].fillna(value=0)).astype(type_)\n",
        "    return df"
      ],
      "execution_count": 10,
      "outputs": []
    },
    {
      "cell_type": "code",
      "metadata": {
        "colab": {
          "base_uri": "https://localhost:8080/"
        },
        "id": "y1hkAOpP_zr7",
        "outputId": "f33a6287-11c1-4336-beca-6a6fa5dd0926"
      },
      "source": [
        "buildings = reduce_mem_usage(buildings)\n",
        "weather = reduce_mem_usage(weather)\n",
        "energy = reduce_mem_usage(energy)"
      ],
      "execution_count": 11,
      "outputs": [
        {
          "output_type": "stream",
          "text": [
            "Потребление памяти меньше на 0.05 Мб (минус 73.8 %)\n",
            "Потребление памяти меньше на 6.53 Мб (минус 68.1 %)\n",
            "Потребление памяти меньше на 195.54 Мб (минус 53.1 %)\n"
          ],
          "name": "stdout"
        }
      ]
    },
    {
      "cell_type": "code",
      "metadata": {
        "id": "7LnbnHko_3Ox"
      },
      "source": [
        "energy = pd.merge(left=energy,right=buildings,how='left',left_on='building_id',right_on='building_id')\n",
        "energy = energy[energy['building_id'] < 20]\n",
        "energy = energy.set_index(['site_id','timestamp'])\n",
        "weather = weather.set_index(['site_id','timestamp'])\n",
        "energy = pd.merge(left=energy,right=weather,how='left',left_index=True,right_index=True)\n",
        "energy.reset_index(inplace=True)\n",
        "del weather\n",
        "del buildings"
      ],
      "execution_count": 12,
      "outputs": []
    },
    {
      "cell_type": "code",
      "metadata": {
        "colab": {
          "base_uri": "https://localhost:8080/"
        },
        "id": "LPgFNDH3A5uB",
        "outputId": "f5bf6fd2-71e8-419b-c2f5-f5663cddd6ab"
      },
      "source": [
        "energy.info()"
      ],
      "execution_count": 16,
      "outputs": [
        {
          "output_type": "stream",
          "text": [
            "<class 'pandas.core.frame.DataFrame'>\n",
            "RangeIndex: 175680 entries, 0 to 175679\n",
            "Data columns (total 16 columns):\n",
            " #   Column              Non-Null Count   Dtype         \n",
            "---  ------              --------------   -----         \n",
            " 0   site_id             175680 non-null  int64         \n",
            " 1   timestamp           175680 non-null  datetime64[ns]\n",
            " 2   building_id         175680 non-null  int16         \n",
            " 3   meter               175680 non-null  int8          \n",
            " 4   meter_reading       175680 non-null  float32       \n",
            " 5   primary_use         175680 non-null  category      \n",
            " 6   square_feet         175680 non-null  int32         \n",
            " 7   year_built          175680 non-null  float16       \n",
            " 8   floor_count         0 non-null       float16       \n",
            " 9   air_temperature     175620 non-null  float16       \n",
            " 10  cloud_coverage      99080 non-null   float16       \n",
            " 11  dew_temperature     175620 non-null  float16       \n",
            " 12  precip_depth_1_hr   175660 non-null  float16       \n",
            " 13  sea_level_pressure  173980 non-null  float16       \n",
            " 14  wind_direction      170680 non-null  float16       \n",
            " 15  wind_speed          175680 non-null  float16       \n",
            "dtypes: category(1), datetime64[ns](1), float16(9), float32(1), int16(1), int32(1), int64(1), int8(1)\n",
            "memory usage: 7.7 MB\n"
          ],
          "name": "stdout"
        }
      ]
    },
    {
      "cell_type": "code",
      "metadata": {
        "colab": {
          "base_uri": "https://localhost:8080/"
        },
        "id": "-0TJsfPgDVrv",
        "outputId": "2bcf039f-9288-44f4-bc68-df030a59b9ac"
      },
      "source": [
        "energy_train_lr.columns"
      ],
      "execution_count": 38,
      "outputs": [
        {
          "output_type": "execute_result",
          "data": {
            "text/plain": [
              "Index(['meter_reading', 'hour', 'building_id', 'air_temperature',\n",
              "       'dew_temperature', 'sea_level_pressure', 'wind_speed', 'cloud_coverage',\n",
              "       'is_holiday'],\n",
              "      dtype='object')"
            ]
          },
          "metadata": {
            "tags": []
          },
          "execution_count": 38
        }
      ]
    },
    {
      "cell_type": "code",
      "metadata": {
        "colab": {
          "base_uri": "https://localhost:8080/"
        },
        "id": "jLBIYJksBIlk",
        "outputId": "4b193ab7-0658-42f6-c182-d7ecf834db4d"
      },
      "source": [
        "len(energy)"
      ],
      "execution_count": 14,
      "outputs": [
        {
          "output_type": "execute_result",
          "data": {
            "text/plain": [
              "175680"
            ]
          },
          "metadata": {
            "tags": []
          },
          "execution_count": 14
        }
      ]
    },
    {
      "cell_type": "code",
      "metadata": {
        "id": "e6KKZ9HjCNc8"
      },
      "source": [
        "from pandas.tseries.holiday import USFederalHolidayCalendar as calendar"
      ],
      "execution_count": 17,
      "outputs": []
    },
    {
      "cell_type": "code",
      "metadata": {
        "id": "ob92JLgDBqQL"
      },
      "source": [
        "energy['hour'] = energy['timestamp'].dt.hour.astype('int8')\n",
        "dates_range = pd.date_range(start='2015-12-31',end='2017-01-01')\n",
        "us_holidays = calendar().holidays(start=dates_range.min(),end=dates_range.max())\n",
        "energy['date'] = pd.to_datetime(energy['timestamp'].dt.date)\n",
        "energy['is_holiday'] = energy['date'].isin(us_holidays).astype('int8')"
      ],
      "execution_count": 18,
      "outputs": []
    },
    {
      "cell_type": "code",
      "metadata": {
        "id": "5MICDEqfDDZA"
      },
      "source": [
        "energy['precip_depth_1_hr'] = energy['precip_depth_1_hr'].apply(lambda x: x if x > 0 else 0)"
      ],
      "execution_count": 19,
      "outputs": []
    },
    {
      "cell_type": "code",
      "metadata": {
        "id": "g6flPZxADZW3"
      },
      "source": [
        "interp_cols = ['air_temperature','cloud_coverage','dew_temperature','precip_depth_1_hr','sea_level_pressure','wind_speed']\n",
        "for col in interp_cols:\n",
        "  energy[col] = energy[col].interpolate(limit_direction='both',kind='cubic')"
      ],
      "execution_count": 21,
      "outputs": []
    },
    {
      "cell_type": "code",
      "metadata": {
        "id": "-PE-XG5JEFOR"
      },
      "source": [
        "regression_cols = ['meter_reading','air_temperature','cloud_coverage','dew_temperature','is_holiday','sea_level_pressure','wind_speed']"
      ],
      "execution_count": 22,
      "outputs": []
    },
    {
      "cell_type": "code",
      "metadata": {
        "id": "pVbD59yrERj5"
      },
      "source": [
        "energy_train,energy_test = train_test_split(energy[energy['meter_reading'] > 0],test_size=0.2)"
      ],
      "execution_count": 23,
      "outputs": []
    },
    {
      "cell_type": "code",
      "metadata": {
        "id": "eM9ArJ1PEkMe"
      },
      "source": [
        "X = energy_train.drop('meter_reading',axis=1)\n",
        "y = energy_train['meter_reading']"
      ],
      "execution_count": 24,
      "outputs": []
    },
    {
      "cell_type": "code",
      "metadata": {
        "id": "91Bkgu9ME-ic"
      },
      "source": [
        "hours = range(0,24)\n",
        "buildings = range(0,energy_train['building_id'].max() + 1)\n",
        "lr_columns = ['meter_reading','hour','building_id','air_temperature',\n",
        "              'dew_temperature','sea_level_pressure','wind_speed','cloud_coverage','is_holiday']\n",
        "energy_train_lr = pd.DataFrame(energy_train,columns=lr_columns)\n",
        "energy_lr = [[]] * len(buildings)\n",
        "for building in buildings:\n",
        "  energy_lr[building] = [[]] * len(hours)\n",
        "  energy_train_b = energy_train_lr[energy_train_lr['building_id'] == building]\n",
        "  for hour in hours:\n",
        "    energy_train_bh = energy_train_b[energy_train_b['hour'] == hour]\n",
        "    y = energy_train_bh['meter_reading']\n",
        "    X = energy_train_bh.drop(['meter_reading','hour','building_id'],axis=1)\n",
        "    model = LinearRegression()\n",
        "    model.fit(X,y)\n",
        "    energy_lr[building][hour] = model.coef_\n",
        "    energy_lr[building][hour] = np.append(energy_lr[building][hour],model.intercept_)\n"
      ],
      "execution_count": 39,
      "outputs": []
    },
    {
      "cell_type": "code",
      "metadata": {
        "id": "VA7av9gWHRoz"
      },
      "source": [
        "def calculate_model(x):\n",
        "  model = energy_lr[x.building_id][x.hour]\n",
        "  lr = np.sum([x[col] * model[i] for i,col in enumerate(lr_columns[3:])])\n",
        "  lr +=model[len(lr_columns) - 3]\n",
        "  x['meter_reading_lr_q'] = (np.log(1 + x.meter_reading) - np.log(1 + lr)) ** 2\n",
        "  return x"
      ],
      "execution_count": 40,
      "outputs": []
    },
    {
      "cell_type": "code",
      "metadata": {
        "colab": {
          "base_uri": "https://localhost:8080/"
        },
        "id": "HWxZCK5dJfg9",
        "outputId": "093bd1ea-4f1a-4941-f83f-0fe346b298d2"
      },
      "source": [
        "energy_test = energy_test.apply(calculate_model,axis=1,result_type='expand')\n",
        "np.sqrt(energy_test['meter_reading_lr_q'].sum() / len(energy_test))"
      ],
      "execution_count": 41,
      "outputs": [
        {
          "output_type": "stream",
          "text": [
            "/usr/local/lib/python3.7/dist-packages/ipykernel_launcher.py:5: RuntimeWarning: invalid value encountered in log\n",
            "  \"\"\"\n"
          ],
          "name": "stderr"
        },
        {
          "output_type": "execute_result",
          "data": {
            "text/plain": [
              "0.23916610830812113"
            ]
          },
          "metadata": {
            "tags": []
          },
          "execution_count": 41
        }
      ]
    },
    {
      "cell_type": "code",
      "metadata": {
        "id": "jtAJsBs1JvP5"
      },
      "source": [
        ""
      ],
      "execution_count": null,
      "outputs": []
    }
  ]
}