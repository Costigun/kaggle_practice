{
 "cells": [
  {
   "cell_type": "markdown",
   "metadata": {},
   "source": [
    "### Постановка задачи\n",
    "Рассмотрим несколько моделей линейной регрессии, чтобы выяснить более оптимальную для первых 20 зданий.\n",
    "\n",
    "Данные:\n",
    "* http://video.ittensive.com/machine-learning/ashrae/building_metadata.csv.gz\n",
    "* http://video.ittensive.com/machine-learning/ashrae/weather_train.csv.gz\n",
    "* http://video.ittensive.com/machine-learning/ashrae/train.0.csv.gz\n",
    "Соревнование: https://www.kaggle.com/c/ashrae-energy-prediction/\n",
    "\n",
    "© ITtensive, 2020"
   ]
  },
  {
   "cell_type": "code",
   "execution_count": 1,
   "metadata": {},
   "outputs": [],
   "source": [
    "import pandas as pd\n",
    "from pandas.tseries.holiday import USFederalHolidayCalendar as calendar\n",
    "import numpy as np\n",
    "from scipy.interpolate import interp1d\n",
    "from sklearn.model_selection import train_test_split\n",
    "from sklearn.linear_model import LinearRegression, Lasso, Ridge, ElasticNet, BayesianRidge"
   ]
  },
  {
   "cell_type": "code",
   "execution_count": 2,
   "metadata": {},
   "outputs": [],
   "source": [
    "def reduce_mem_usage (df):\n",
    "    start_mem = df.memory_usage().sum() / 1024**2    \n",
    "    for col in df.columns:\n",
    "        col_type = df[col].dtypes\n",
    "        if str(col_type)[:5] == \"float\":\n",
    "            c_min = df[col].min()\n",
    "            c_max = df[col].max()\n",
    "            if c_min > np.finfo(\"f2\").min and c_max < np.finfo(\"f2\").max:\n",
    "                df[col] = df[col].astype(np.float16)\n",
    "            elif c_min > np.finfo(\"f4\").min and c_max < np.finfo(\"f4\").max:\n",
    "                df[col] = df[col].astype(np.float32)\n",
    "            else:\n",
    "                df[col] = df[col].astype(np.float64)\n",
    "        elif str(col_type)[:3] == \"int\":\n",
    "            c_min = df[col].min()\n",
    "            c_max = df[col].max()\n",
    "            if c_min > np.iinfo(\"i1\").min and c_max < np.iinfo(\"i1\").max:\n",
    "                df[col] = df[col].astype(np.int8)\n",
    "            elif c_min > np.iinfo(\"i2\").min and c_max < np.iinfo(\"i2\").max:\n",
    "                df[col] = df[col].astype(np.int16)\n",
    "            elif c_min > np.iinfo(\"i4\").min and c_max < np.iinfo(\"i4\").max:\n",
    "                df[col] = df[col].astype(np.int32)\n",
    "            elif c_min > np.iinfo(\"i8\").min and c_max < np.iinfo(\"i8\").max:\n",
    "                df[col] = df[col].astype(np.int64)\n",
    "        elif col == \"timestamp\":\n",
    "            df[col] = pd.to_datetime(df[col])\n",
    "        elif str(col_type)[:8] != \"datetime\":\n",
    "            df[col] = df[col].astype(\"category\")\n",
    "    end_mem = df.memory_usage().sum() / 1024**2\n",
    "    print('Потребление памяти меньше на', round(start_mem - end_mem, 2), 'Мб (минус', round(100 * (start_mem - end_mem) / start_mem, 1), '%)')\n",
    "    return df"
   ]
  },
  {
   "cell_type": "code",
   "execution_count": 3,
   "metadata": {},
   "outputs": [
    {
     "name": "stdout",
     "output_type": "stream",
     "text": [
      "Потребление памяти меньше на 10.39 Мб (минус 70.5 %)\n",
      "<class 'pandas.core.frame.DataFrame'>\n",
      "RangeIndex: 175680 entries, 0 to 175679\n",
      "Data columns (total 11 columns):\n",
      " #   Column              Non-Null Count   Dtype         \n",
      "---  ------              --------------   -----         \n",
      " 0   timestamp           175680 non-null  datetime64[ns]\n",
      " 1   building_id         175680 non-null  int8          \n",
      " 2   meter_reading       175680 non-null  float16       \n",
      " 3   primary_use         175680 non-null  category      \n",
      " 4   air_temperature     175620 non-null  float16       \n",
      " 5   cloud_coverage      99080 non-null   float16       \n",
      " 6   dew_temperature     175620 non-null  float16       \n",
      " 7   precip_depth_1_hr   175660 non-null  float16       \n",
      " 8   sea_level_pressure  173980 non-null  float16       \n",
      " 9   wind_direction      170680 non-null  float16       \n",
      " 10  wind_speed          175680 non-null  float16       \n",
      "dtypes: category(1), datetime64[ns](1), float16(8), int8(1)\n",
      "memory usage: 4.4 MB\n",
      "None\n"
     ]
    }
   ],
   "source": [
    "buildings = pd.read_csv(\"http://video.ittensive.com/machine-learning/ashrae/building_metadata.csv.gz\")\n",
    "weather = pd.read_csv(\"http://video.ittensive.com/machine-learning/ashrae/weather_train.csv.gz\")\n",
    "energy = pd.read_csv(\"http://video.ittensive.com/machine-learning/ashrae/train.0.csv.gz\")\n",
    "energy = energy[(energy[\"building_id\"]<20)]\n",
    "energy = pd.merge(left=energy, right=buildings, how=\"left\",\n",
    "                   left_on=\"building_id\", right_on=\"building_id\")\n",
    "energy = energy.set_index([\"timestamp\", \"site_id\"])\n",
    "weather = weather.set_index([\"timestamp\", \"site_id\"])\n",
    "energy = pd.merge(left=energy, right=weather, how=\"left\",\n",
    "                  left_index=True, right_index=True)\n",
    "energy.reset_index(inplace=True)\n",
    "energy = energy.drop(columns=[\"meter\", \"site_id\", \"year_built\",\n",
    "                              \"square_feet\", \"floor_count\"], axis=1)\n",
    "del buildings\n",
    "del weather\n",
    "energy = reduce_mem_usage(energy)\n",
    "print (energy.info())"
   ]
  },
  {
   "cell_type": "code",
   "execution_count": 4,
   "metadata": {},
   "outputs": [],
   "source": [
    "energy[\"hour\"] = energy[\"timestamp\"].dt.hour.astype(\"int8\")\n",
    "energy[\"weekday\"] = energy[\"timestamp\"].dt.weekday.astype(\"int8\")\n",
    "for weekday in range(0,7):\n",
    "    energy['is_wday' + str(weekday)] = energy['weekday'].isin([weekday]).astype(\"int8\")\n",
    "energy[\"date\"] = pd.to_datetime(energy[\"timestamp\"].dt.date)\n",
    "dates_range = pd.date_range(start='2015-12-31', end='2017-01-01')\n",
    "us_holidays = calendar().holidays(start=dates_range.min(),\n",
    "                                  end=dates_range.max())\n",
    "energy['is_holiday'] = energy['date'].isin(us_holidays).astype(\"int8\")\n",
    "energy[\"meter_reading_log\"] = np.log(energy[\"meter_reading\"] + 1)"
   ]
  },
  {
   "cell_type": "code",
   "execution_count": 5,
   "metadata": {},
   "outputs": [],
   "source": [
    "energy_train,energy_test = train_test_split(energy[energy['meter_reading'] > 0],test_size=0.2)"
   ]
  },
  {
   "cell_type": "code",
   "execution_count": 6,
   "metadata": {},
   "outputs": [],
   "source": [
    "from sklearn.metrics import *"
   ]
  },
  {
   "cell_type": "code",
   "execution_count": 7,
   "metadata": {},
   "outputs": [],
   "source": [
    "hours = range(0,24)\n",
    "buildings = range(0,energy_train['building_id'].max() + 1)\n",
    "lr_columns = ['meter_reading_log','hour','building_id','is_holiday']\n",
    "for wday in range(0,7):\n",
    "    lr_columns.append('is_wday' + str(wday))\n"
   ]
  },
  {
   "cell_type": "markdown",
   "metadata": {},
   "source": [
    "Линейная регрессия\n",
    "\\begin{equation}\n",
    "z = Ax + By + C, |z-z_0|^2 \\rightarrow min\n",
    "\\end{equation}\n",
    "Лассо + LARS Лассо\n",
    "\\begin{equation}\n",
    "\\frac{1}{2n}|z-z_0|^2 + a(|A|+|B|) \\rightarrow min\n",
    "\\end{equation}\n",
    "Гребневая регрессия\n",
    "\\begin{equation}\n",
    "|z-z_0|^2 + a(A^2 + B^2) \\rightarrow min\n",
    "\\end{equation}\n",
    "ElasticNet: Лассо + Гребневая регрессия\n",
    "\\begin{equation}\n",
    "\\frac{1}{2n}|z-z_0|^2 + \\alpha p|A^2+B^2| + (\\alpha - p)(|A|+|B|)/2 \\rightarrow min\n",
    "\\end{equation}"
   ]
  },
  {
   "cell_type": "code",
   "execution_count": 8,
   "metadata": {},
   "outputs": [],
   "source": [
    "lr_models = {\n",
    "    \"LinearRegression\":LinearRegression,\n",
    "    \"Lasso-0.01\":Lasso,\n",
    "    \"Lasso-0.1\":Lasso,\n",
    "    \"Lasso-1.0\":Lasso,\n",
    "    \"Ridge-0.01\":Ridge,\n",
    "    \"Ridge-0.1\":Ridge,\n",
    "    \"Ridge-1.0\":Ridge,\n",
    "    \"ELasticNet-1-1\":ElasticNet,\n",
    "    \"ELasticNet-0.1-1\":ElasticNet,\n",
    "    \"ELasticNet-1-0.1\":ElasticNet,\n",
    "    \"ELasticNet-0.1-0.1\":ElasticNet,\n",
    "    \"BayesianRidge\":BayesianRidge\n",
    "}\n",
    "energy_train_lr = pd.DataFrame(energy_train,columns=lr_columns)"
   ]
  },
  {
   "cell_type": "code",
   "execution_count": 11,
   "metadata": {},
   "outputs": [
    {
     "name": "stdout",
     "output_type": "stream",
     "text": [
      "{'LinearRegression': 0.13262979264188432, 'Lasso-0.01': -0.19060262906360775, 'Lasso-0.1': -31.177850789729533, 'Lasso-1.0': -2429.7711638954247, 'Ridge-0.01': 0.13221503036076057, 'Ridge-0.1': 0.09151042473014116, 'Ridge-1.0': -3.6576414865818228, 'ELasticNet-1-1': -2105.6896312858844, 'ELasticNet-0.1-1': -2105.6896312858844, 'ELasticNet-1-0.1': -2105.6896312858844, 'ELasticNet-0.1-0.1': -2105.6896312858844, 'BayesianRidge': 0.13261999641258232}\n"
     ]
    }
   ],
   "source": [
    "lr_models_scores = {}\n",
    "for _ in lr_models:\n",
    "    lr_model = lr_models[_]\n",
    "    energy_lr_scores = [[]] * len(buildings)\n",
    "    for building in buildings:\n",
    "        energy_lr_scores[building] = [0] * len(hours)\n",
    "        energy_train_b = energy_train_lr[energy_train_lr['building_id'] == building]\n",
    "        for hour in hours:\n",
    "            energy_train_bh = energy_train_b[energy_train_b['hour'] == hour]\n",
    "            y = energy_train_bh['meter_reading_log']\n",
    "            x = energy_train_bh.drop(['meter_reading_log','hour','building_id'],axis=1)\n",
    "            if _ in ['Ridge-0.1','Lasso-0.1']:\n",
    "                model = lr_model(alpha=0.1,fit_intercept=False).fit(x,y)\n",
    "            elif _ in ['Ridge-0.01','Lasso-0.01']:\n",
    "                model = lr_model(alpha=0.01,fit_intercept=False).fit(x,y)\n",
    "            elif _ == 'ElasticNet-1-1':\n",
    "                model = lr_model(alpha=1,l1_ratio=1,fit_intercept=False).fit(x,y)\n",
    "            elif _ == 'ElasticNet-1-0.1':\n",
    "                model = lr_model(alpha=1,l1_ratio=0.1,fit_intercept=False).fit(x,y)\n",
    "            elif _ == 'ElasticNet-0.1-1':\n",
    "                model = lr_model(alpha=0.1,l1_ratio=1,fit_intercept=False).fit(x,y)\n",
    "            elif _ == 'ElasticNet-0.1-0.1':\n",
    "                model = lr_model(alpha=0.1,l1_ratio=0.1,fit_intercept=False).fit(x,y)\n",
    "            else:\n",
    "                model = lr_model(fit_intercept=False).fit(x,y)\n",
    "            energy_lr_scores[building][hour] = r2_score(y,model.predict(x))\n",
    "    lr_models_scores[_] = np.mean(energy_lr_scores)\n",
    "print(lr_models_scores)"
   ]
  },
  {
   "cell_type": "code",
   "execution_count": 14,
   "metadata": {},
   "outputs": [
    {
     "name": "stdout",
     "output_type": "stream",
     "text": [
      "[-0.05204313  5.44504565  5.41921165  5.47881611  5.41753305  5.43838778\n",
      "  5.45137392  5.44059806]\n",
      "[-0.04938976  5.44244413  5.41674949  5.47670968  5.41516617  5.43591691\n",
      "  5.44949479  5.43872264]\n",
      "[-0.05138182  5.44439819  5.41859905  5.47829205  5.41694412  5.43777302\n",
      "  5.45090643  5.44013149]\n"
     ]
    }
   ],
   "source": [
    "energy_lr = []\n",
    "energy_ridge = []\n",
    "energy_br = []\n",
    "for building in buildings:\n",
    "    energy_lr.append([])\n",
    "    energy_ridge.append([])\n",
    "    energy_br.append([])\n",
    "    energy_train_b = energy_train_lr[energy_train_lr['building_id'] == building]\n",
    "    for hour in hours:\n",
    "        energy_lr[building].append([0] * (len(lr_columns)-3))\n",
    "        energy_ridge[building].append([0] * (len(lr_columns)-3))\n",
    "        energy_br[building].append([0] * (len(lr_columns)-3))\n",
    "        energy_train_bh = energy_train_b[energy_train_b['hour'] == hour]\n",
    "        y = energy_train_bh['meter_reading_log']\n",
    "        if len(y) > 0:\n",
    "            x = energy_train_bh.drop(['meter_reading_log','hour','building_id'],axis=1)\n",
    "            model = LinearRegression(fit_intercept=False).fit(x,y)\n",
    "            energy_lr[building][hour] = model.coef_\n",
    "            model = Ridge(alpha=0.01,fit_intercept=False).fit(x,y)\n",
    "            energy_ridge[building][hour] = model.coef_\n",
    "            model = BayesianRidge(fit_intercept=False).fit(x,y)\n",
    "            energy_br[building][hour] = model.coef_\n",
    "print(energy_lr[0][0])\n",
    "print(energy_ridge[0][0])\n",
    "print(energy_br[0][0])"
   ]
  }
 ],
 "metadata": {
  "kernelspec": {
   "display_name": "Python 3",
   "language": "python",
   "name": "python3"
  },
  "language_info": {
   "codemirror_mode": {
    "name": "ipython",
    "version": 3
   },
   "file_extension": ".py",
   "mimetype": "text/x-python",
   "name": "python",
   "nbconvert_exporter": "python",
   "pygments_lexer": "ipython3",
   "version": "3.8.3"
  }
 },
 "nbformat": 4,
 "nbformat_minor": 4
}
