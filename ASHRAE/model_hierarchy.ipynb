{
  "nbformat": 4,
  "nbformat_minor": 0,
  "metadata": {
    "colab": {
      "name": "model_hierarchy.ipynb",
      "provenance": []
    },
    "kernelspec": {
      "name": "python3",
      "display_name": "Python 3"
    },
    "language_info": {
      "name": "python"
    }
  },
  "cells": [
    {
      "cell_type": "markdown",
      "metadata": {
        "id": "hxs2LWXM8Lat"
      },
      "source": [
        ""
      ]
    },
    {
      "cell_type": "code",
      "metadata": {
        "id": "KW-8SKnY8MSY"
      },
      "source": [
        "import pandas as pd\n",
        "from pandas.tseries.holiday import USFederalHolidayCalendar as calendar\n",
        "import numpy as np\n",
        "from scipy.interpolate import interp1d\n",
        "from sklearn.model_selection import train_test_split\n",
        "from sklearn.linear_model import LinearRegression"
      ],
      "execution_count": 1,
      "outputs": []
    },
    {
      "cell_type": "code",
      "metadata": {
        "id": "76Y9OmAk8RiW"
      },
      "source": [
        "def reduce_memory(df):\n",
        "    start_mem = df.memory_usage().sum() / 1024 ** 2\n",
        "    for col in df.columns:\n",
        "        col_type = df[col].dtypes\n",
        "        if str(col_type)[:5] == 'float':\n",
        "            c_min = df[col].min()\n",
        "            c_max = df[col].max()\n",
        "            if c_min > np.finfo('f2').min and c_max < np.finfo('f2').max:\n",
        "                df[col] = df[col].astype(np.float16)\n",
        "            elif c_min > np.finfo('f4').min and c_max < np.finfo('f4').max():\n",
        "                df[col] = df[col].astype(np.float32)\n",
        "            else:\n",
        "                df[col] = df[col].astype(np.float64)\n",
        "        elif str(col_type)[:3] == 'int':\n",
        "            c_min = df[col].min()\n",
        "            c_max = df[col].max()\n",
        "            if c_min > np.iinfo('i1').min and c_max < np.iinfo('i1').max:\n",
        "                df[col] = df[col].astype(np.int8)\n",
        "            elif c_min > np.iinfo('i2').min and c_max < np.iinfo('i2').max:\n",
        "                df[col] = df[col].astype(np.int16)\n",
        "            elif c_min > np.iinfo('i4').min and c_max < np.iinfo('i4').max:\n",
        "                df[col] = df[col].astype(np.int32)\n",
        "            elif c_min > np.iinfo('i8').min and c_max < np.iinfo('i8').max:\n",
        "                df[col] = df[col].astype(np.int64)\n",
        "        elif col == 'timestamp':\n",
        "            df[col] = pd.to_datetime(df[col])\n",
        "        elif str(col_type)[:8] != \"datetime\":\n",
        "            df[col] = df[col].astype(\"category\")\n",
        "    end_mem = df.memory_usage().sum() / 1024 ** 2\n",
        "    print('Потребление памяти меньше на', round(start_mem - end_mem, 2), 'Мб (минус', round(100 * (start_mem - end_mem) / start_mem, 1), '%)')\n",
        "    return df"
      ],
      "execution_count": 2,
      "outputs": []
    },
    {
      "cell_type": "code",
      "metadata": {
        "id": "5iRTXFg-8VUk"
      },
      "source": [
        "buildings = pd.read_csv(\"http://video.ittensive.com/machine-learning/ashrae/building_metadata.csv.gz\")\n",
        "weather = pd.read_csv(\"http://video.ittensive.com/machine-learning/ashrae/weather_train.csv.gz\")\n",
        "energy = pd.read_csv(\"http://video.ittensive.com/machine-learning/ashrae/train.0.csv.gz\")"
      ],
      "execution_count": 3,
      "outputs": []
    },
    {
      "cell_type": "code",
      "metadata": {
        "colab": {
          "base_uri": "https://localhost:8080/"
        },
        "id": "hpxLcsLG8XWG",
        "outputId": "d9de27a1-377c-47da-8972-8afb7d7ca15f"
      },
      "source": [
        "energy = energy[energy['building_id'] < 100]\n",
        "energy = pd.merge(left=energy,right=buildings,how='left',right_on='building_id',left_on='building_id')\n",
        "energy = energy.set_index(['timestamp','site_id'])\n",
        "weather = weather.set_index(['timestamp','site_id'])\n",
        "energy = pd.merge(left=energy,right=weather,how='left',left_index=True,right_index=True)\n",
        "energy.reset_index(inplace=True)\n",
        "energy = energy.drop(['meter','year_built','square_feet','floor_count'],axis=1)\n",
        "energy = reduce_memory(energy)\n",
        "del buildings\n",
        "del weather"
      ],
      "execution_count": 4,
      "outputs": [
        {
          "output_type": "stream",
          "text": [
            "Потребление памяти меньше на 56.89 Мб (минус 71.9 %)\n"
          ],
          "name": "stdout"
        }
      ]
    },
    {
      "cell_type": "code",
      "metadata": {
        "id": "t21z3s3-9T1h"
      },
      "source": [
        "energy['hour'] = energy['timestamp'].dt.hour.astype('int8')\n",
        "energy['weekday'] = energy['timestamp'].dt.weekday.astype('int8')\n",
        "for weekday in range(0,7):\n",
        "  energy['is_wday' + str(weekday)] = energy['weekday'].isin([weekday]).astype('int8')\n",
        "energy['date'] = pd.to_datetime(energy['timestamp'].dt.date)\n",
        "dates_range = pd.date_range(start='2015-12-31',end='2017-01-01')\n",
        "us_holidays = calendar().holidays(start=dates_range.min(),end=dates_range.max()) \n",
        "energy['is_holiday'] = energy['date'].isin(us_holidays).astype(\"int8\")\n",
        "energy['meter_reading_log'] = np.log(energy['meter_reading'] + 1)"
      ],
      "execution_count": 5,
      "outputs": []
    },
    {
      "cell_type": "code",
      "metadata": {
        "id": "dyR_cLN5-0nv"
      },
      "source": [
        "energy_train,energy_test = train_test_split(energy[energy['meter_reading'] > 0],test_size=0.2)"
      ],
      "execution_count": 6,
      "outputs": []
    },
    {
      "cell_type": "code",
      "metadata": {
        "colab": {
          "base_uri": "https://localhost:8080/"
        },
        "id": "keWLMimz_QPe",
        "outputId": "53410d53-391b-4d5a-951c-e96a48f1873a"
      },
      "source": [
        "hours = range(0,24)\n",
        "buildings = range(0,energy_train['building_id'].max() + 1)\n",
        "lr_columns = ['meter_reading_log','hour','building_id','is_holiday']\n",
        "for wday in range(0,7):\n",
        "  lr_columns.append('is_wday' + str(wday))\n",
        "energy_train_lr = pd.DataFrame(energy_train,columns=lr_columns)\n",
        "energy_lr = [[]] * len(buildings)\n",
        "for building in buildings:\n",
        "  energy_lr[building] = [[]] * len(hours)\n",
        "  energy_train_b = energy_train_lr[energy_train_lr['building_id'] == building]\n",
        "  for hour in hours:\n",
        "    energy_lr[building].append([0] * (len(lr_columns) - 3))\n",
        "    energy_train_bh = energy_train_b[energy_train_b['hour'] == hour]\n",
        "    y = energy_train_bh['meter_reading_log']\n",
        "    if len(y) > 0:\n",
        "      x = energy_train_bh.drop(['meter_reading_log','hour','building_id'],axis=1)\n",
        "      model = LinearRegression(fit_intercept=False)\n",
        "      model.fit(x,y)\n",
        "      energy_lr[building][hour] = model.coef_\n",
        "      energy_lr[building][hour] = np.append(energy_lr[building][hour],model.intercept_)\n",
        "print(energy_lr[0])      \n"
      ],
      "execution_count": 7,
      "outputs": [
        {
          "output_type": "stream",
          "text": [
            "[array([-0.13402895,  5.45342722,  5.4603125 ,  5.47786458,  5.500625  ,\n",
            "        5.42583414,  5.44401042,  5.43475116,  0.        ]), array([-0.06561396,  5.44684513,  5.49414062,  5.49567522,  5.46871831,\n",
            "        5.4438538 ,  5.46657986,  5.44342672,  0.        ]), array([-0.03821639,  5.43418224,  5.47767857,  5.52421875,  5.46463713,\n",
            "        5.45853365,  5.47086589,  5.43055556,  0.        ]), array([-0.1310587 ,  5.45859445,  5.45659722,  5.50240385,  5.46361341,\n",
            "        5.44929847,  5.45501078,  5.47216797,  0.        ]), array([-0.03857242,  5.44283326,  5.4640625 ,  5.50585938,  5.479375  ,\n",
            "        5.45668531,  5.4458912 ,  5.42919922,  0.        ]), array([-0.15542314,  5.47775565,  5.44867996,  5.49537037,  5.46327927,\n",
            "        5.48981068,  5.46310764,  5.38151042,  0.        ]), array([-0.14588473,  5.48319285,  5.45868389,  5.48456101,  5.44671875,\n",
            "        5.45036664,  5.48476562,  5.49112216,  0.        ]), array([-0.07730235,  5.45877463,  5.44229403,  5.47859375,  5.49062352,\n",
            "        5.47402959,  5.46503906,  5.44745464,  0.        ]), array([-0.0611337 ,  5.48010488,  5.4556108 ,  5.49439538,  5.45868389,\n",
            "        5.46828268,  5.3929178 ,  5.4596946 ,  0.        ]), array([-0.08545711,  5.40578647,  5.42788462,  5.46767241,  5.39423508,\n",
            "        5.48754919,  5.42317708,  5.43526786,  0.        ]), array([-0.07797633,  5.45148299,  5.38957332,  5.49699519,  5.42900815,\n",
            "        5.39013052,  5.4109933 ,  5.46078726,  0.        ]), array([-0.15801272,  5.45580928,  5.426875  ,  5.50050951,  5.46670756,\n",
            "        5.45500667,  5.39022091,  5.40850361,  0.        ]), array([-0.08245498,  5.45318553,  5.44621394,  5.49855324,  5.38478328,\n",
            "        5.4104857 ,  5.42703125,  5.4516369 ,  0.        ]), array([-0.0984096 ,  5.42843192,  5.49928977,  5.45089286,  5.41177559,\n",
            "        5.43180704,  5.38725754,  5.39134838,  0.        ]), array([-0.16710561,  5.41635735,  5.47325721,  5.48347356,  5.4627424 ,\n",
            "        5.40496359,  5.39568866,  5.38802083,  0.        ]), array([-0.13485783,  5.38096116,  5.47129755,  5.51708984,  5.44733867,\n",
            "        5.42788462,  5.45016164,  5.39591471,  0.        ]), array([-0.14873461,  5.46097994,  5.49234375,  5.51422991,  5.49141813,\n",
            "        5.47113226,  5.3898112 ,  5.40059267,  0.        ]), array([-0.14916124,  5.47192222,  5.48031851,  5.53125   ,  5.41409145,\n",
            "        5.43839486,  5.43419471,  5.34637662,  0.        ]), array([-0.07842324,  5.48426346,  5.49967448,  5.51436942,  5.39995137,\n",
            "        5.4260932 ,  5.45372596,  5.38991477,  0.        ]), array([-0.08182915,  5.4664653 ,  5.4921875 ,  5.46183894,  5.42495903,\n",
            "        5.46187342,  5.46331522,  5.48692909,  0.        ]), array([-0.08009737,  5.42529641,  5.50390625,  5.46358817,  5.44771635,\n",
            "        5.4478522 ,  5.43344351,  5.45140625,  0.        ]), array([-0.13852539,  5.47946402,  5.47291667,  5.50968071,  5.42891686,\n",
            "        5.48719076,  5.43296875,  5.43521013,  0.        ]), array([-0.0485981 ,  5.44791497,  5.47154018,  5.46814904,  5.46783498,\n",
            "        5.49422554,  5.43214699,  5.485     ,  0.        ]), array([-0.14115671,  5.4605015 ,  5.51367188,  5.418125  ,  5.43111502,\n",
            "        5.45663171,  5.46171875,  5.45474138,  0.        ]), [0, 0, 0, 0, 0, 0, 0, 0], [0, 0, 0, 0, 0, 0, 0, 0], [0, 0, 0, 0, 0, 0, 0, 0], [0, 0, 0, 0, 0, 0, 0, 0], [0, 0, 0, 0, 0, 0, 0, 0], [0, 0, 0, 0, 0, 0, 0, 0], [0, 0, 0, 0, 0, 0, 0, 0], [0, 0, 0, 0, 0, 0, 0, 0], [0, 0, 0, 0, 0, 0, 0, 0], [0, 0, 0, 0, 0, 0, 0, 0], [0, 0, 0, 0, 0, 0, 0, 0], [0, 0, 0, 0, 0, 0, 0, 0], [0, 0, 0, 0, 0, 0, 0, 0], [0, 0, 0, 0, 0, 0, 0, 0], [0, 0, 0, 0, 0, 0, 0, 0], [0, 0, 0, 0, 0, 0, 0, 0], [0, 0, 0, 0, 0, 0, 0, 0], [0, 0, 0, 0, 0, 0, 0, 0], [0, 0, 0, 0, 0, 0, 0, 0], [0, 0, 0, 0, 0, 0, 0, 0], [0, 0, 0, 0, 0, 0, 0, 0], [0, 0, 0, 0, 0, 0, 0, 0], [0, 0, 0, 0, 0, 0, 0, 0], [0, 0, 0, 0, 0, 0, 0, 0]]\n"
          ],
          "name": "stdout"
        }
      ]
    },
    {
      "cell_type": "code",
      "metadata": {
        "colab": {
          "base_uri": "https://localhost:8080/"
        },
        "id": "ByTl690KChXi",
        "outputId": "47529986-2788-4b1c-e7ce-8ff868303277"
      },
      "source": [
        "sites = range(0,energy['site_id'].max() + 1)\n",
        "primary_uses = energy['primary_use'].unique()\n",
        "lr_columns_use = ['meter_reading_log','hour','building_id','is_holiday','primary_use','site_id']\n",
        "for wday in range(0,7):\n",
        "  lr_columns_use.append('is_wday' + str(wday))\n",
        "energy_lr_use = {}\n",
        "energy_lr_use_site = {}  \n",
        "energy_train_lr = pd.DataFrame(energy_train,columns=lr_columns_use)\n",
        "for primary_use in primary_uses:\n",
        "  energy_train_u = energy_train_lr[energy_train_lr['primary_use'] == primary_use]\n",
        "  if len(energy_train_u) > 0:\n",
        "    energy_lr_use_site[primary_use] = [[]] * len(sites)\n",
        "    for site in sites:\n",
        "      energy_lr_use_site[primary_use][site] = [[]] * len(hours)\n",
        "      energy_train_us = energy_train_u[energy_train_u['site_id'] == site]\n",
        "      if len(energy_train_us) > 0:\n",
        "        for hour in hours:\n",
        "          energy_train_ush = energy_train_us[energy_train_us['hour'] == hour]\n",
        "          y = energy_train_ush['meter_reading_log']\n",
        "          if len(y) > 0:\n",
        "            x = energy_train_ush.drop(['meter_reading_log','hour','building_id','site_id','primary_use'],axis=1)\n",
        "            model = LinearRegression(fit_intercept=False)\n",
        "            model.fit(x,y)\n",
        "            energy_lr_use_site[primary_use][site][hour] = model.coef_\n",
        "            energy_lr_use_site[primary_use][site][hour] = np.append(energy_lr_use_site[primary_use][site][hour],model.intercept_)\n",
        "    energy_lr_use[primary_use] = [[]] * len(hours)       \n",
        "    for hour in hours:\n",
        "      energy_train_uh = energy_train_u[energy_train_u['hour'] == hour]\n",
        "      y = energy_train_uh['meter_reading_log']\n",
        "      if len(y) > 0:\n",
        "        x = energy_train_uh.drop(['meter_reading_log','hour','building_id','site_id','primary_use'],axis=1)\n",
        "        model = LinearRegression(fit_intercept=False)\n",
        "        model.fit(x,y)\n",
        "        energy_lr_use[primary_use][hour] = model.coef_\n",
        "        energy_lr_use[primary_use][hour] = np.append(energy_lr_use[primary_use][hour],model.intercept_)\n",
        "print(energy_lr_use_site['Education'])      \n"
      ],
      "execution_count": 8,
      "outputs": [
        {
          "output_type": "stream",
          "text": [
            "[[array([0.01041911, 5.61395315, 5.70179028, 5.68541603, 5.69121823,\n",
            "       5.64781714, 5.6491358 , 5.64602292, 0.        ]), array([-0.04325704,  5.64160629,  5.63350602,  5.69670407,  5.65383024,\n",
            "        5.65601829,  5.62203699,  5.60732345,  0.        ]), array([0.02053786, 5.57231738, 5.6461055 , 5.64654097, 5.63237207,\n",
            "       5.63932975, 5.65886274, 5.54829738, 0.        ]), array([-0.12433813,  5.57422391,  5.59054447,  5.60593964,  5.6295499 ,\n",
            "        5.61570536,  5.63442158,  5.58714947,  0.        ]), array([-0.08507817,  5.58022276,  5.61605588,  5.66376192,  5.63235131,\n",
            "        5.63787574,  5.60232882,  5.59896641,  0.        ]), array([-0.05243391,  5.63621578,  5.68415731,  5.63014513,  5.64579099,\n",
            "        5.61994683,  5.67066617,  5.60750427,  0.        ]), array([-0.08742314,  5.72298001,  5.76761038,  5.75473833,  5.72046877,\n",
            "        5.72952171,  5.68603323,  5.6908535 ,  0.        ]), array([-0.11561226,  5.83152026,  5.8225845 ,  5.80012932,  5.83531026,\n",
            "        5.82764087,  5.8035858 ,  5.79355495,  0.        ]), array([-0.10730044,  5.88873703,  5.91905989,  5.89374374,  5.91960001,\n",
            "        5.9245689 ,  5.77326182,  5.7823985 ,  0.        ]), array([-0.18790778,  5.95005053,  5.93674399,  5.95908308,  5.93374234,\n",
            "        5.92795367,  5.7821615 ,  5.79340608,  0.        ]), array([-0.1443537 ,  5.99955695,  5.93853022,  5.94194067,  5.97081284,\n",
            "        5.94477497,  5.83808005,  5.7682305 ,  0.        ]), array([-0.17520257,  6.04912067,  6.00427015,  5.9559364 ,  6.01187195,\n",
            "        5.98995494,  5.83070169,  5.85522354,  0.        ]), array([-0.13382081,  6.01314608,  6.02322869,  6.03246741,  6.03371792,\n",
            "        5.99387992,  5.8411971 ,  5.84759865,  0.        ]), array([-0.14803083,  6.05011199,  6.02157991,  6.02724661,  6.05208122,\n",
            "        6.00159743,  5.86279039,  5.84048357,  0.        ]), array([-0.14412994,  6.08813073,  6.0841439 ,  6.05572943,  6.05022595,\n",
            "        5.98338309,  5.84545835,  5.82375394,  0.        ]), array([-0.12333687,  6.05676883,  6.04999817,  6.0542194 ,  6.04318867,\n",
            "        5.98332514,  5.84308508,  5.86003369,  0.        ]), array([-0.18738824,  6.05672378,  6.04926031,  6.06630276,  6.00539312,\n",
            "        5.95435829,  5.86041667,  5.87632968,  0.        ]), array([-0.15758746,  5.99348928,  5.9595757 ,  5.96392961,  5.9894463 ,\n",
            "        5.93081966,  5.85545706,  5.8330022 ,  0.        ]), array([-0.05274254,  5.92593532,  5.944581  ,  5.98574192,  5.96009653,\n",
            "        5.91793698,  5.85153611,  5.8661224 ,  0.        ]), array([-0.02852863,  5.91516999,  5.97896082,  5.90832331,  5.92453394,\n",
            "        5.89898903,  5.87281259,  5.861667  ,  0.        ]), array([-0.04149494,  5.93574129,  5.89610911,  5.97998249,  5.90344818,\n",
            "        5.85920041,  5.86407503,  5.86237094,  0.        ]), array([0.02124072, 5.88500465, 5.88250812, 5.879756  , 5.90309057,\n",
            "       5.88493539, 5.82058182, 5.83507229, 0.        ]), array([-0.08415059,  5.81257354,  5.86532052,  5.86029113,  5.80752374,\n",
            "        5.85499849,  5.80648485,  5.81121678,  0.        ]), array([-0.09871999,  5.69864981,  5.69381143,  5.73184848,  5.72040533,\n",
            "        5.67822497,  5.61585547,  5.63641071,  0.        ])]]\n"
          ],
          "name": "stdout"
        }
      ]
    },
    {
      "cell_type": "code",
      "metadata": {
        "colab": {
          "base_uri": "https://localhost:8080/"
        },
        "id": "NeNXdAxqKwh_",
        "outputId": "2359502f-4d0e-40b9-92ec-85e8d442854f"
      },
      "source": [
        "def calculate_model(x):\n",
        "  lr = -1\n",
        "  model = energy_lr[x.building_id][x.hour]\n",
        "  if len(model) == 0:\n",
        "    model = energy_lr_use[x.primary_use][x.hour]\n",
        "  if len(model) == 0:\n",
        "    model = energy_lr_use[x.primary_use][x.hour]\n",
        "  if len(model) > 0:\n",
        "    lr = np.sum([x[col] * model[i] for i,col in enumerate(lr_columns[3:])])\n",
        "    lr += model[len(lr_columns) - 3]\n",
        "    lr = np.exp(lr)\n",
        "  if lr < 0 or lr != lr or lr*lr == lr:\n",
        "    lr = 0\n",
        "  x['meter_reading_lr_q'] = (np.log(1+x.meter_reading) - np.log(1 + lr)) ** 2\n",
        "  return x\n",
        "\n",
        "energy_test = energy_test.apply(calculate_model,axis=1,result_type='expand')\n",
        "\n",
        "np.sqrt(energy_test['meter_reading_lr_q'].sum() / len(energy_test))"
      ],
      "execution_count": 10,
      "outputs": [
        {
          "output_type": "execute_result",
          "data": {
            "text/plain": [
              "0.3443734770234583"
            ]
          },
          "metadata": {
            "tags": []
          },
          "execution_count": 10
        }
      ]
    },
    {
      "cell_type": "code",
      "metadata": {
        "id": "e22o0UGsUrbS"
      },
      "source": [
        ""
      ],
      "execution_count": null,
      "outputs": []
    }
  ]
}